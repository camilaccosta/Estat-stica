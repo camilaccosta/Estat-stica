{
  "nbformat": 4,
  "nbformat_minor": 0,
  "metadata": {
    "colab": {
      "name": "Exercicios_Probabilidade.ipynb",
      "provenance": [],
      "authorship_tag": "ABX9TyMq84aHlg5l5BT7ZQmiRvgd",
      "include_colab_link": true
    },
    "kernelspec": {
      "name": "python3",
      "display_name": "Python 3"
    },
    "language_info": {
      "name": "python"
    }
  },
  "cells": [
    {
      "cell_type": "markdown",
      "metadata": {
        "id": "view-in-github",
        "colab_type": "text"
      },
      "source": [
        "<a href=\"https://colab.research.google.com/github/camilaccosta/Estatistica/blob/main/Exercicios_Probabilidade.ipynb\" target=\"_parent\"><img src=\"https://colab.research.google.com/assets/colab-badge.svg\" alt=\"Open In Colab\"/></a>"
      ]
    },
    {
      "cell_type": "markdown",
      "metadata": {
        "id": "VCEX3lCB7sZf"
      },
      "source": [
        "**1. Existem quantos arranjos lineares diferentes das letras A, B, C, D, E, F para os quais A e B estão uma do lado da outra.**"
      ]
    },
    {
      "cell_type": "markdown",
      "metadata": {
        "id": "C8pUtKSK79tK"
      },
      "source": [
        "Arranjos:\n",
        "AB = 1 item so porém que pode ser arranjada de duas formas: AB ou BA \n",
        "\n",
        "Assim: 5! x 2! = 120 x 2 = 240 arranjos "
      ]
    },
    {
      "cell_type": "markdown",
      "metadata": {
        "id": "VMfXuJAZ8m6N"
      },
      "source": [
        "**2. João, Juliano, Jonas e Jackes formaram uma banda com quatro instrumentos. Se cada um é capaz de tocar todos instrumentos, quantas diferentes combinações é possivel se realizar?**"
      ]
    },
    {
      "cell_type": "markdown",
      "metadata": {
        "id": "1ESYaLtC84JQ"
      },
      "source": [
        "Permutação de 4! = 24 combinações"
      ]
    },
    {
      "cell_type": "markdown",
      "metadata": {
        "id": "eY7kSDXK84pi"
      },
      "source": [
        "**3. Por muitos anos, os códigos telefônicos de área nos EUA e no Canadá eram formados por uma sequência de 3 algarismos. O primeiro algarismo era um inteiro entre 2 e 9, o segundo algarismo era entre 0 e 1, e o terceiro digito era um inteiro entre 1 e 9. Quantos códigos da área eram possíveis? Quantos códigos de área começando com um 4 eram possíveis?**"
      ]
    },
    {
      "cell_type": "markdown",
      "metadata": {
        "id": "K0L9NRps9Pfe"
      },
      "source": [
        "1º dígito:   número de 2 a 9 - 8 opções\n",
        "2º dígito:   número de 0 a 1 - 2 opções\n",
        "3º dígito:   número de 1 a 9 - 9  opções\n",
        "\n",
        "Total= 8 x 2 x 9 = *144 possibilidades* \n",
        "\n",
        "**Quantos códigos de área começando com um 4 eram possíveis?**\n",
        "\n",
        "1º dígito:  número 4 - 1 opção\n",
        "2º dígito:   número de 0 a 1 - 2 opções\n",
        "3º dígito:   número de 1 a 9 - 9  opções\n",
        "\n",
        "Total= 1 x 2 x 9 = *18 possibilidades*"
      ]
    },
    {
      "cell_type": "markdown",
      "metadata": {
        "id": "6lrXk_cz-NfK"
      },
      "source": [
        "**4. De quantas maneiras diferentes 3 garotos e 3 garotas podem sentar-se em fila?**"
      ]
    },
    {
      "cell_type": "markdown",
      "metadata": {
        "id": "TGDug0J--WVc"
      },
      "source": [
        "Permutação:\n",
        "Cada um como indivíduo único:\n",
        "\n",
        "6! = *720 possibilidades*\n",
        "\n",
        "Considerando apenas o sexo (permutação com repetição):\n",
        "\n",
        "P = (6!)/(3! x 3!) = 720/(6 x 6) = 720/36 = *20 Possibilidades*\n",
        "     \n"
      ]
    },
    {
      "cell_type": "markdown",
      "metadata": {
        "id": "xur3ApfL-rwt"
      },
      "source": [
        "**5. Um comitê de 7 pessoas, formado por 2 petistas, 2 democratas e 3 peemedebistas devem ser escolhidos de um grupo de 5 petistas, 6 democratas, e 4 peemedebistas. Quantas configurações diferentes podemos ter para o comitê?**"
      ]
    },
    {
      "cell_type": "markdown",
      "metadata": {
        "id": "aqSipu9rAuOt"
      },
      "source": [
        "Combinação:\n",
        "\n",
        "petistas : 5 ---> 2  \n",
        "Democratas : 6  ---> 2\n",
        "\n",
        "Peemedebiistas: 4  ---> 3 \n",
        " "
      ]
    },
    {
      "cell_type": "code",
      "metadata": {
        "id": "5KpUxZYIgPzx"
      },
      "source": [
        "from scipy.special import comb "
      ],
      "execution_count": 16,
      "outputs": []
    },
    {
      "cell_type": "code",
      "metadata": {
        "colab": {
          "base_uri": "https://localhost:8080/"
        },
        "id": "2sCYNRRSgVFO",
        "outputId": "a148c3bd-e188-4faa-d87b-b5e9bad2b85a"
      },
      "source": [
        "comb(5,2)*comb(6,2)* comb(4,3)"
      ],
      "execution_count": 2,
      "outputs": [
        {
          "output_type": "execute_result",
          "data": {
            "text/plain": [
              "600.0"
            ]
          },
          "metadata": {},
          "execution_count": 2
        }
      ]
    },
    {
      "cell_type": "markdown",
      "metadata": {
        "id": "2eTmk9xXBEIP"
      },
      "source": [
        "**6. Um torneio de xadrez tem dez competidores, dos quais quatro são russos, três são dos Estados Unidos, dois são da Grã-Bretanha e um é do Brasil. Se o resultado do torneio listar apenas a nacionalidade dos jogadores em sua ordem de colocação, quantos resultados serão possíveis?**"
      ]
    },
    {
      "cell_type": "code",
      "metadata": {
        "id": "1lMto4JvhL7c"
      },
      "source": [
        "from math import factorial"
      ],
      "execution_count": 4,
      "outputs": []
    },
    {
      "cell_type": "code",
      "metadata": {
        "colab": {
          "base_uri": "https://localhost:8080/"
        },
        "id": "Xukrbe9HhR6k",
        "outputId": "2bda6cf8-4934-4953-db9e-94bb1e5115cd"
      },
      "source": [
        "factorial(10)/(factorial(4)* factorial(3)* factorial(2)*1)"
      ],
      "execution_count": 5,
      "outputs": [
        {
          "output_type": "execute_result",
          "data": {
            "text/plain": [
              "12600.0"
            ]
          },
          "metadata": {},
          "execution_count": 5
        }
      ]
    },
    {
      "cell_type": "markdown",
      "metadata": {
        "id": "fyTvBiu_BHxG"
      },
      "source": [
        "**7. Quantos arranjos diferentes podem ser feitos a partir de:**\n",
        "\n",
        "**a) sorte**\n",
        "\n",
        "**b) mississipi**\n",
        "\n",
        "**c) arranjo**"
      ]
    },
    {
      "cell_type": "code",
      "metadata": {
        "id": "zkgaNh-YpoFS"
      },
      "source": [
        "from itertools import permutations "
      ],
      "execution_count": 7,
      "outputs": []
    },
    {
      "cell_type": "code",
      "metadata": {
        "colab": {
          "base_uri": "https://localhost:8080/"
        },
        "id": "0cVPSOakpybb",
        "outputId": "c5ddd37c-3620-4543-e69c-dd6e41c08326"
      },
      "source": [
        "palavras = ['SORTE', 'MISSISSIPI','ARRANJO']\n",
        "for palavra in palavras:\n",
        "  # Um set para guardar cada permutação de cada uma das palavras.\n",
        "  permutacoes_distintas = set()\n",
        "\n",
        "  for perm in permutations(palavra):\n",
        "    permutacoes_distintas.add(perm)\n",
        "    \n",
        "  print(len(permutacoes_distintas))"
      ],
      "execution_count": 13,
      "outputs": [
        {
          "output_type": "stream",
          "name": "stdout",
          "text": [
            "120\n",
            "6300\n",
            "1260\n"
          ]
        }
      ]
    },
    {
      "cell_type": "markdown",
      "metadata": {
        "id": "WmO7-StNg33x"
      },
      "source": [
        "**8. Uma pessoa tem 8 amigos dos quais 5 serão convidados para uma festa.**\n",
        "\n",
        "**a) Quantas escolhas existem se dois dos amigos estiverem brigados e por esse motivo não puderem comparecer?**\n",
        "\n",
        "**b) Quantas escolhas existem se dois amigos puderem ir apenas se forem juntos?**\n",
        "\n"
      ]
    },
    {
      "cell_type": "code",
      "metadata": {
        "colab": {
          "base_uri": "https://localhost:8080/"
        },
        "id": "hNRqMZs-r4Rt",
        "outputId": "ac9c7f3a-fb56-4791-92fd-71795d42a0f8"
      },
      "source": [
        "#a) \n",
        "\n",
        "comb(6,5)\n"
      ],
      "execution_count": 17,
      "outputs": [
        {
          "output_type": "execute_result",
          "data": {
            "text/plain": [
              "6.0"
            ]
          },
          "metadata": {},
          "execution_count": 17
        }
      ]
    },
    {
      "cell_type": "code",
      "metadata": {
        "colab": {
          "base_uri": "https://localhost:8080/"
        },
        "id": "z3KVq9sAssJD",
        "outputId": "0f125dd7-1dac-4d46-bdaf-8ab95fd05afb"
      },
      "source": [
        "#b)\n",
        "\n",
        "comb(6,3) + comb(6,5)"
      ],
      "execution_count": 19,
      "outputs": [
        {
          "output_type": "execute_result",
          "data": {
            "text/plain": [
              "26.0"
            ]
          },
          "metadata": {},
          "execution_count": 19
        }
      ]
    },
    {
      "cell_type": "markdown",
      "metadata": {
        "id": "XPpfL9OEhHzb"
      },
      "source": [
        "**9. De um grupo de cinco mulheres e sete homens, quantos comitês diferentes formados por duas mulheres e três homens podem ser formados?**\n",
        "\n"
      ]
    },
    {
      "cell_type": "code",
      "metadata": {
        "colab": {
          "base_uri": "https://localhost:8080/"
        },
        "id": "TNfCKhHkr5qR",
        "outputId": "823f7f35-3377-4cb8-d785-67b714e96e39"
      },
      "source": [
        "comb(5,2)*comb(7,3)"
      ],
      "execution_count": 20,
      "outputs": [
        {
          "output_type": "execute_result",
          "data": {
            "text/plain": [
              "350.0"
            ]
          },
          "metadata": {},
          "execution_count": 20
        }
      ]
    },
    {
      "cell_type": "markdown",
      "metadata": {
        "id": "cfV-fdOHt4Cj"
      },
      "source": [
        "**E se dois dos homens estiverem brigados e se recusarem a trabalhar juntos?**"
      ]
    },
    {
      "cell_type": "code",
      "metadata": {
        "colab": {
          "base_uri": "https://localhost:8080/"
        },
        "id": "9YOhm3PLt5CX",
        "outputId": "9f92b35a-286c-403a-c13f-e7030999c118"
      },
      "source": [
        "#Supondo que não tivesse nenhuma briga no grupo masculino :\n",
        "\n",
        "combinacaoMasculina = comb(7,3)\n",
        "print(f\" Combinação Masculina  : {combinacaoMasculina}\")\n",
        "\n",
        "#Analisando o cenário caso os dois vão trabalhar juntos (cenário contrário do possível)\n",
        "\n",
        "#Supondo que dois trabalhem juntos no comitê:\n",
        "\n",
        "combinacao1Masculina = comb(5,1)* comb(2,2)\n",
        "print(f\" Combinação Masculina a serem excluídas : {combinacao1Masculina}\")\n",
        "\n",
        "#Combinação das mulheres do comitê:\n",
        "combinacaoFeminina = comb(5,2)\n",
        "print(f\" Combinação Feminina : {combinacaoFeminina}\")\n",
        "\n",
        "#Calculo total, subtraindo o cenário que não pode ocorrer:\n",
        "total = combinacaoFeminina*(combinacaoMasculina - combinacao1Masculina)\n",
        "\n",
        "print(f\" O total de combinações é: {total}\")"
      ],
      "execution_count": 29,
      "outputs": [
        {
          "output_type": "stream",
          "name": "stdout",
          "text": [
            " Combinação Masculina  : 35.0\n",
            " Combinação Masculina a serem excluídas : 5.0\n",
            " Combinação Feminina : 10.0\n",
            " O total de combinações é: 300.0\n"
          ]
        }
      ]
    }
  ]
}