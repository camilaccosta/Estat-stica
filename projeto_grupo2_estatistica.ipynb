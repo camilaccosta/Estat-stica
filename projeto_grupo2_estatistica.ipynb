{
  "cells": [
    {
      "cell_type": "markdown",
      "metadata": {
        "id": "view-in-github",
        "colab_type": "text"
      },
      "source": [
        "<a href=\"https://colab.research.google.com/github/camilaccosta/Estatistica/blob/main/projeto_grupo2_estatistica.ipynb\" target=\"_parent\"><img src=\"https://colab.research.google.com/assets/colab-badge.svg\" alt=\"Open In Colab\"/></a>"
      ]
    },
    {
      "cell_type": "markdown",
      "source": [
        "Projeto de Estatística - Turma - 735 - Grupo 02 \n",
        "\n",
        "Componentes: \n",
        "\n",
        "- Camila Cardoso\n",
        "- Fábio Barreto\n",
        "- Marcelo Vega"
      ],
      "metadata": {
        "id": "0asYrLXJDEtJ"
      }
    },
    {
      "cell_type": "code",
      "execution_count": null,
      "metadata": {
        "id": "7KCP0bWO3NMs"
      },
      "outputs": [],
      "source": [
        "import pandas as pd \n",
        "import numpy as np \n",
        "import matplotlib.pyplot as plt \n",
        "import seaborn as sns \n",
        "import plotly.express as px \n",
        "from scipy.stats import norm\n",
        "from scipy.stats import t as t_student\n"
      ]
    },
    {
      "cell_type": "markdown",
      "metadata": {
        "id": "W19ASErmrvnt"
      },
      "source": [
        "#**Visualização Inicial do Data Frame:**"
      ]
    },
    {
      "cell_type": "code",
      "execution_count": null,
      "metadata": {
        "id": "bHySoSQn4U09"
      },
      "outputs": [],
      "source": [
        "df = pd.read_csv('https://s3-sa-east-1.amazonaws.com/lcpi/97fe77d1-2aec-4660-a799-c6eaccd14ea7.csv')"
      ]
    },
    {
      "cell_type": "code",
      "execution_count": null,
      "metadata": {
        "colab": {
          "base_uri": "https://localhost:8080/",
          "height": 709
        },
        "id": "qizgUE5ZJJqU",
        "outputId": "7775967d-4222-4d3a-bab9-71bda9ed4716"
      },
      "outputs": [
        {
          "data": {
            "text/html": [
              "<div>\n",
              "<style scoped>\n",
              "    .dataframe tbody tr th:only-of-type {\n",
              "        vertical-align: middle;\n",
              "    }\n",
              "\n",
              "    .dataframe tbody tr th {\n",
              "        vertical-align: top;\n",
              "    }\n",
              "\n",
              "    .dataframe thead th {\n",
              "        text-align: right;\n",
              "    }\n",
              "</style>\n",
              "<table border=\"1\" class=\"dataframe\">\n",
              "  <thead>\n",
              "    <tr style=\"text-align: right;\">\n",
              "      <th></th>\n",
              "      <th>Total Household Income</th>\n",
              "      <th>Region</th>\n",
              "      <th>Total Food Expenditure</th>\n",
              "      <th>Main Source of Income</th>\n",
              "      <th>Agricultural Household indicator</th>\n",
              "      <th>Bread and Cereals Expenditure</th>\n",
              "      <th>Total Rice Expenditure</th>\n",
              "      <th>Meat Expenditure</th>\n",
              "      <th>Total Fish and  marine products Expenditure</th>\n",
              "      <th>Fruit Expenditure</th>\n",
              "      <th>...</th>\n",
              "      <th>Number of Refrigerator/Freezer</th>\n",
              "      <th>Number of Washing Machine</th>\n",
              "      <th>Number of Airconditioner</th>\n",
              "      <th>Number of Car, Jeep, Van</th>\n",
              "      <th>Number of Landline/wireless telephones</th>\n",
              "      <th>Number of Cellular phone</th>\n",
              "      <th>Number of Personal Computer</th>\n",
              "      <th>Number of Stove with Oven/Gas Range</th>\n",
              "      <th>Number of Motorized Banca</th>\n",
              "      <th>Number of Motorcycle/Tricycle</th>\n",
              "    </tr>\n",
              "  </thead>\n",
              "  <tbody>\n",
              "    <tr>\n",
              "      <th>0</th>\n",
              "      <td>480332</td>\n",
              "      <td>CAR</td>\n",
              "      <td>117848</td>\n",
              "      <td>Wage/Salaries</td>\n",
              "      <td>0</td>\n",
              "      <td>42140</td>\n",
              "      <td>38300</td>\n",
              "      <td>24676</td>\n",
              "      <td>16806</td>\n",
              "      <td>3325</td>\n",
              "      <td>...</td>\n",
              "      <td>1</td>\n",
              "      <td>1</td>\n",
              "      <td>0</td>\n",
              "      <td>0</td>\n",
              "      <td>0</td>\n",
              "      <td>2</td>\n",
              "      <td>1</td>\n",
              "      <td>0</td>\n",
              "      <td>0</td>\n",
              "      <td>1</td>\n",
              "    </tr>\n",
              "    <tr>\n",
              "      <th>1</th>\n",
              "      <td>198235</td>\n",
              "      <td>CAR</td>\n",
              "      <td>67766</td>\n",
              "      <td>Wage/Salaries</td>\n",
              "      <td>0</td>\n",
              "      <td>17329</td>\n",
              "      <td>13008</td>\n",
              "      <td>17434</td>\n",
              "      <td>11073</td>\n",
              "      <td>2035</td>\n",
              "      <td>...</td>\n",
              "      <td>0</td>\n",
              "      <td>1</td>\n",
              "      <td>0</td>\n",
              "      <td>0</td>\n",
              "      <td>0</td>\n",
              "      <td>3</td>\n",
              "      <td>1</td>\n",
              "      <td>0</td>\n",
              "      <td>0</td>\n",
              "      <td>2</td>\n",
              "    </tr>\n",
              "    <tr>\n",
              "      <th>2</th>\n",
              "      <td>82785</td>\n",
              "      <td>CAR</td>\n",
              "      <td>61609</td>\n",
              "      <td>Wage/Salaries</td>\n",
              "      <td>1</td>\n",
              "      <td>34182</td>\n",
              "      <td>32001</td>\n",
              "      <td>7783</td>\n",
              "      <td>2590</td>\n",
              "      <td>1730</td>\n",
              "      <td>...</td>\n",
              "      <td>0</td>\n",
              "      <td>0</td>\n",
              "      <td>0</td>\n",
              "      <td>0</td>\n",
              "      <td>0</td>\n",
              "      <td>0</td>\n",
              "      <td>0</td>\n",
              "      <td>0</td>\n",
              "      <td>0</td>\n",
              "      <td>0</td>\n",
              "    </tr>\n",
              "    <tr>\n",
              "      <th>3</th>\n",
              "      <td>107589</td>\n",
              "      <td>CAR</td>\n",
              "      <td>78189</td>\n",
              "      <td>Wage/Salaries</td>\n",
              "      <td>0</td>\n",
              "      <td>34030</td>\n",
              "      <td>28659</td>\n",
              "      <td>10914</td>\n",
              "      <td>10812</td>\n",
              "      <td>690</td>\n",
              "      <td>...</td>\n",
              "      <td>0</td>\n",
              "      <td>0</td>\n",
              "      <td>0</td>\n",
              "      <td>0</td>\n",
              "      <td>0</td>\n",
              "      <td>1</td>\n",
              "      <td>0</td>\n",
              "      <td>0</td>\n",
              "      <td>0</td>\n",
              "      <td>0</td>\n",
              "    </tr>\n",
              "    <tr>\n",
              "      <th>4</th>\n",
              "      <td>189322</td>\n",
              "      <td>CAR</td>\n",
              "      <td>94625</td>\n",
              "      <td>Wage/Salaries</td>\n",
              "      <td>0</td>\n",
              "      <td>34820</td>\n",
              "      <td>30167</td>\n",
              "      <td>18391</td>\n",
              "      <td>11309</td>\n",
              "      <td>1395</td>\n",
              "      <td>...</td>\n",
              "      <td>1</td>\n",
              "      <td>0</td>\n",
              "      <td>0</td>\n",
              "      <td>0</td>\n",
              "      <td>0</td>\n",
              "      <td>3</td>\n",
              "      <td>0</td>\n",
              "      <td>0</td>\n",
              "      <td>0</td>\n",
              "      <td>1</td>\n",
              "    </tr>\n",
              "  </tbody>\n",
              "</table>\n",
              "<p>5 rows × 60 columns</p>\n",
              "</div>"
            ],
            "text/plain": [
              "   Total Household Income Region  Total Food Expenditure  \\\n",
              "0                  480332    CAR                  117848   \n",
              "1                  198235    CAR                   67766   \n",
              "2                   82785    CAR                   61609   \n",
              "3                  107589    CAR                   78189   \n",
              "4                  189322    CAR                   94625   \n",
              "\n",
              "  Main Source of Income  Agricultural Household indicator  \\\n",
              "0         Wage/Salaries                                 0   \n",
              "1         Wage/Salaries                                 0   \n",
              "2         Wage/Salaries                                 1   \n",
              "3         Wage/Salaries                                 0   \n",
              "4         Wage/Salaries                                 0   \n",
              "\n",
              "   Bread and Cereals Expenditure  Total Rice Expenditure  Meat Expenditure  \\\n",
              "0                          42140                   38300             24676   \n",
              "1                          17329                   13008             17434   \n",
              "2                          34182                   32001              7783   \n",
              "3                          34030                   28659             10914   \n",
              "4                          34820                   30167             18391   \n",
              "\n",
              "   Total Fish and  marine products Expenditure  Fruit Expenditure  ...  \\\n",
              "0                                        16806               3325  ...   \n",
              "1                                        11073               2035  ...   \n",
              "2                                         2590               1730  ...   \n",
              "3                                        10812                690  ...   \n",
              "4                                        11309               1395  ...   \n",
              "\n",
              "   Number of Refrigerator/Freezer  Number of Washing Machine  \\\n",
              "0                               1                          1   \n",
              "1                               0                          1   \n",
              "2                               0                          0   \n",
              "3                               0                          0   \n",
              "4                               1                          0   \n",
              "\n",
              "   Number of Airconditioner  Number of Car, Jeep, Van  \\\n",
              "0                         0                         0   \n",
              "1                         0                         0   \n",
              "2                         0                         0   \n",
              "3                         0                         0   \n",
              "4                         0                         0   \n",
              "\n",
              "   Number of Landline/wireless telephones  Number of Cellular phone  \\\n",
              "0                                       0                         2   \n",
              "1                                       0                         3   \n",
              "2                                       0                         0   \n",
              "3                                       0                         1   \n",
              "4                                       0                         3   \n",
              "\n",
              "   Number of Personal Computer  Number of Stove with Oven/Gas Range  \\\n",
              "0                            1                                    0   \n",
              "1                            1                                    0   \n",
              "2                            0                                    0   \n",
              "3                            0                                    0   \n",
              "4                            0                                    0   \n",
              "\n",
              "   Number of Motorized Banca  Number of Motorcycle/Tricycle  \n",
              "0                          0                              1  \n",
              "1                          0                              2  \n",
              "2                          0                              0  \n",
              "3                          0                              0  \n",
              "4                          0                              1  \n",
              "\n",
              "[5 rows x 60 columns]"
            ]
          },
          "execution_count": 3,
          "metadata": {},
          "output_type": "execute_result"
        }
      ],
      "source": [
        "df.head()"
      ]
    },
    {
      "cell_type": "code",
      "execution_count": null,
      "metadata": {
        "colab": {
          "base_uri": "https://localhost:8080/"
        },
        "id": "Gz12AhMcrl8z",
        "outputId": "1e73d09d-256c-4abd-e484-1e9660f92d21"
      },
      "outputs": [
        {
          "name": "stdout",
          "output_type": "stream",
          "text": [
            "<class 'pandas.core.frame.DataFrame'>\n",
            "RangeIndex: 41544 entries, 0 to 41543\n",
            "Data columns (total 60 columns):\n",
            " #   Column                                         Non-Null Count  Dtype \n",
            "---  ------                                         --------------  ----- \n",
            " 0   Total Household Income                         41544 non-null  int64 \n",
            " 1   Region                                         41544 non-null  object\n",
            " 2   Total Food Expenditure                         41544 non-null  int64 \n",
            " 3   Main Source of Income                          41544 non-null  object\n",
            " 4   Agricultural Household indicator               41544 non-null  int64 \n",
            " 5   Bread and Cereals Expenditure                  41544 non-null  int64 \n",
            " 6   Total Rice Expenditure                         41544 non-null  int64 \n",
            " 7   Meat Expenditure                               41544 non-null  int64 \n",
            " 8   Total Fish and  marine products Expenditure    41544 non-null  int64 \n",
            " 9   Fruit Expenditure                              41544 non-null  int64 \n",
            " 10  Vegetables Expenditure                         41544 non-null  int64 \n",
            " 11  Restaurant and hotels Expenditure              41544 non-null  int64 \n",
            " 12  Alcoholic Beverages Expenditure                41544 non-null  int64 \n",
            " 13  Tobacco Expenditure                            41544 non-null  int64 \n",
            " 14  Clothing, Footwear and Other Wear Expenditure  41544 non-null  int64 \n",
            " 15  Housing and water Expenditure                  41544 non-null  int64 \n",
            " 16  Imputed House Rental Value                     41544 non-null  int64 \n",
            " 17  Medical Care Expenditure                       41544 non-null  int64 \n",
            " 18  Transportation Expenditure                     41544 non-null  int64 \n",
            " 19  Communication Expenditure                      41544 non-null  int64 \n",
            " 20  Education Expenditure                          41544 non-null  int64 \n",
            " 21  Miscellaneous Goods and Services Expenditure   41544 non-null  int64 \n",
            " 22  Special Occasions Expenditure                  41544 non-null  int64 \n",
            " 23  Crop Farming and Gardening expenses            41544 non-null  int64 \n",
            " 24  Total Income from Entrepreneurial Acitivites   41544 non-null  int64 \n",
            " 25  Household Head Sex                             41544 non-null  object\n",
            " 26  Household Head Age                             41544 non-null  int64 \n",
            " 27  Household Head Marital Status                  41544 non-null  object\n",
            " 28  Household Head Highest Grade Completed         41544 non-null  object\n",
            " 29  Household Head Job or Business Indicator       41544 non-null  object\n",
            " 30  Household Head Occupation                      34008 non-null  object\n",
            " 31  Household Head Class of Worker                 34008 non-null  object\n",
            " 32  Type of Household                              41544 non-null  object\n",
            " 33  Total Number of Family members                 41544 non-null  int64 \n",
            " 34  Members with age less than 5 year old          41544 non-null  int64 \n",
            " 35  Members with age 5 - 17 years old              41544 non-null  int64 \n",
            " 36  Total number of family members employed        41544 non-null  int64 \n",
            " 37  Type of Building/House                         41544 non-null  object\n",
            " 38  Type of Roof                                   41544 non-null  object\n",
            " 39  Type of Walls                                  41544 non-null  object\n",
            " 40  House Floor Area                               41544 non-null  int64 \n",
            " 41  House Age                                      41544 non-null  int64 \n",
            " 42  Number of bedrooms                             41544 non-null  int64 \n",
            " 43  Tenure Status                                  41544 non-null  object\n",
            " 44  Toilet Facilities                              41544 non-null  object\n",
            " 45  Electricity                                    41544 non-null  int64 \n",
            " 46  Main Source of Water Supply                    41544 non-null  object\n",
            " 47  Number of Television                           41544 non-null  int64 \n",
            " 48  Number of CD/VCD/DVD                           41544 non-null  int64 \n",
            " 49  Number of Component/Stereo set                 41544 non-null  int64 \n",
            " 50  Number of Refrigerator/Freezer                 41544 non-null  int64 \n",
            " 51  Number of Washing Machine                      41544 non-null  int64 \n",
            " 52  Number of Airconditioner                       41544 non-null  int64 \n",
            " 53  Number of Car, Jeep, Van                       41544 non-null  int64 \n",
            " 54  Number of Landline/wireless telephones         41544 non-null  int64 \n",
            " 55  Number of Cellular phone                       41544 non-null  int64 \n",
            " 56  Number of Personal Computer                    41544 non-null  int64 \n",
            " 57  Number of Stove with Oven/Gas Range            41544 non-null  int64 \n",
            " 58  Number of Motorized Banca                      41544 non-null  int64 \n",
            " 59  Number of Motorcycle/Tricycle                  41544 non-null  int64 \n",
            "dtypes: int64(45), object(15)\n",
            "memory usage: 19.0+ MB\n"
          ]
        }
      ],
      "source": [
        "df.info()"
      ]
    },
    {
      "cell_type": "markdown",
      "metadata": {
        "id": "73BW8Zq6JRG2"
      },
      "source": [
        "#**Milestone 1 - Amostra e Descrição**\n",
        "\n",
        "\n"
      ]
    },
    {
      "cell_type": "markdown",
      "metadata": {
        "id": "Iec8bOouJU0B"
      },
      "source": [
        "##**1.Calcule o tamanho de amostra ideal, considerando que você deseja estimar a média de dinheiro gasto com saúde (Medical Care Expenditure) com um erro máximo de 500, e um nível de confiança de 95%.**"
      ]
    },
    {
      "cell_type": "code",
      "execution_count": null,
      "metadata": {
        "colab": {
          "base_uri": "https://localhost:8080/"
        },
        "id": "Q4RxOdzYJhGo",
        "outputId": "a53de6d6-4ac7-4872-cef9-07fec5f01840"
      },
      "outputs": [
        {
          "data": {
            "text/plain": [
              "0        3457\n",
              "1        3520\n",
              "2          70\n",
              "3          60\n",
              "4         140\n",
              "         ... \n",
              "41539     294\n",
              "41540     890\n",
              "41541     540\n",
              "41542     314\n",
              "41543     330\n",
              "Name: Medical Care Expenditure, Length: 41544, dtype: int64"
            ]
          },
          "execution_count": 5,
          "metadata": {},
          "output_type": "execute_result"
        }
      ],
      "source": [
        "medical_care_expenditure = df[\"Medical Care Expenditure\"]\n",
        "medical_care_expenditure"
      ]
    },
    {
      "cell_type": "code",
      "execution_count": null,
      "metadata": {
        "colab": {
          "base_uri": "https://localhost:8080/"
        },
        "id": "7r33hEAjMH5o",
        "outputId": "3dc1ee13-393e-4b5a-b28e-a5630b0e1a40"
      },
      "outputs": [
        {
          "data": {
            "text/plain": [
              "1049275"
            ]
          },
          "execution_count": 6,
          "metadata": {},
          "output_type": "execute_result"
        }
      ],
      "source": [
        "medical_care_expenditure.max()"
      ]
    },
    {
      "cell_type": "code",
      "execution_count": null,
      "metadata": {
        "colab": {
          "base_uri": "https://localhost:8080/"
        },
        "id": "-mTobZslJ7PN",
        "outputId": "24b7a658-4704-47f7-f544-c536d4febc17"
      },
      "outputs": [
        {
          "data": {
            "text/plain": [
              "7160.230935875216"
            ]
          },
          "execution_count": 7,
          "metadata": {},
          "output_type": "execute_result"
        }
      ],
      "source": [
        "#calculando a média: \n",
        "media_mce = medical_care_expenditure.mean()\n",
        "media_mce"
      ]
    },
    {
      "cell_type": "code",
      "execution_count": null,
      "metadata": {
        "colab": {
          "base_uri": "https://localhost:8080/"
        },
        "id": "KuoG9eSbKQVb",
        "outputId": "3c453e3d-e49d-4c18-db5d-cd2726a5ce53"
      },
      "outputs": [
        {
          "data": {
            "text/plain": [
              "26902.002274617116"
            ]
          },
          "execution_count": 8,
          "metadata": {},
          "output_type": "execute_result"
        }
      ],
      "source": [
        "#calculando a média: \n",
        "desvio_mce = medical_care_expenditure.std()\n",
        "desvio_mce"
      ]
    },
    {
      "cell_type": "code",
      "execution_count": null,
      "metadata": {
        "id": "Ff-woxryKisP"
      },
      "outputs": [],
      "source": [
        "#dados:\n",
        "erro_mce = 500\n",
        "confianca = 0.95\n",
        "significancia = 1 - confianca\n"
      ]
    },
    {
      "cell_type": "code",
      "execution_count": null,
      "metadata": {
        "colab": {
          "base_uri": "https://localhost:8080/"
        },
        "id": "efGsFsQy-FMu",
        "outputId": "6c20fd72-ecc6-4ebf-ee8d-fbd77949f270"
      },
      "outputs": [
        {
          "name": "stdout",
          "output_type": "stream",
          "text": [
            " O Z de alpha é : 1.96\n",
            " O tamanho mínimo da amostra para um erro máximo de 500 é : 11121\n"
          ]
        }
      ],
      "source": [
        "#Calculando o Z de alpha: \n",
        "z_alpha_mce = norm.ppf(confianca +(significancia/2))\n",
        "print(f\" O Z de alpha é : {z_alpha_mce.round(2)}\")\n",
        "\n",
        "#Calculando o número mínimo da amostra:\n",
        "n_minimo_mce = (z_alpha_mce* desvio_mce/ erro_mce)**2\n",
        "\n",
        "#Calculando o tamanho da amostra para erro máximo de 500: \n",
        "\n",
        "n_amostra_mce = round(np.ceil(n_minimo_mce)) # arredondando o valor para número inteiro.\n",
        "print(f\" O tamanho mínimo da amostra para um erro máximo de 500 é : {n_amostra_mce}\")\n",
        "\n",
        "amostra_mce= medical_care_expenditure.sample(n_amostra_mce)"
      ]
    },
    {
      "cell_type": "code",
      "execution_count": null,
      "metadata": {
        "id": "kooqWS3bFPDr"
      },
      "outputs": [],
      "source": [
        "amostra_mce = pd.DataFrame(amostra_mce)\n",
        "amostra_mce_ordenada = amostra_mce.sort_values(by= 'Medical Care Expenditure', ascending= True)\n"
      ]
    },
    {
      "cell_type": "code",
      "execution_count": null,
      "metadata": {
        "colab": {
          "base_uri": "https://localhost:8080/",
          "height": 411
        },
        "id": "PWNidL8mub-B",
        "outputId": "d158282d-7f5b-4f04-a13a-8c349bcab914"
      },
      "outputs": [
        {
          "data": {
            "text/html": [
              "<div>\n",
              "<style scoped>\n",
              "    .dataframe tbody tr th:only-of-type {\n",
              "        vertical-align: middle;\n",
              "    }\n",
              "\n",
              "    .dataframe tbody tr th {\n",
              "        vertical-align: top;\n",
              "    }\n",
              "\n",
              "    .dataframe thead th {\n",
              "        text-align: right;\n",
              "    }\n",
              "</style>\n",
              "<table border=\"1\" class=\"dataframe\">\n",
              "  <thead>\n",
              "    <tr style=\"text-align: right;\">\n",
              "      <th></th>\n",
              "      <th>Medical Care Expenditure</th>\n",
              "    </tr>\n",
              "  </thead>\n",
              "  <tbody>\n",
              "    <tr>\n",
              "      <th>40714</th>\n",
              "      <td>0</td>\n",
              "    </tr>\n",
              "    <tr>\n",
              "      <th>18081</th>\n",
              "      <td>0</td>\n",
              "    </tr>\n",
              "    <tr>\n",
              "      <th>20614</th>\n",
              "      <td>0</td>\n",
              "    </tr>\n",
              "    <tr>\n",
              "      <th>14612</th>\n",
              "      <td>0</td>\n",
              "    </tr>\n",
              "    <tr>\n",
              "      <th>30130</th>\n",
              "      <td>0</td>\n",
              "    </tr>\n",
              "    <tr>\n",
              "      <th>...</th>\n",
              "      <td>...</td>\n",
              "    </tr>\n",
              "    <tr>\n",
              "      <th>27188</th>\n",
              "      <td>572400</td>\n",
              "    </tr>\n",
              "    <tr>\n",
              "      <th>30488</th>\n",
              "      <td>601500</td>\n",
              "    </tr>\n",
              "    <tr>\n",
              "      <th>8256</th>\n",
              "      <td>735164</td>\n",
              "    </tr>\n",
              "    <tr>\n",
              "      <th>16789</th>\n",
              "      <td>767726</td>\n",
              "    </tr>\n",
              "    <tr>\n",
              "      <th>11666</th>\n",
              "      <td>1049275</td>\n",
              "    </tr>\n",
              "  </tbody>\n",
              "</table>\n",
              "<p>11121 rows × 1 columns</p>\n",
              "</div>"
            ],
            "text/plain": [
              "       Medical Care Expenditure\n",
              "40714                         0\n",
              "18081                         0\n",
              "20614                         0\n",
              "14612                         0\n",
              "30130                         0\n",
              "...                         ...\n",
              "27188                    572400\n",
              "30488                    601500\n",
              "8256                     735164\n",
              "16789                    767726\n",
              "11666                   1049275\n",
              "\n",
              "[11121 rows x 1 columns]"
            ]
          },
          "execution_count": 12,
          "metadata": {},
          "output_type": "execute_result"
        }
      ],
      "source": [
        "amostra_mce_ordenada"
      ]
    },
    {
      "cell_type": "markdown",
      "metadata": {
        "id": "-Nmcf1anKf5o"
      },
      "source": [
        "##**2.Obtenha uma amostra do dataset, considerando o tamanho da amostra que você calculou anteriormente e, em seguida, faça uma análise descritiva dos dados com, pelo menos, 10 variáveis quantitativas.**"
      ]
    },
    {
      "cell_type": "code",
      "execution_count": null,
      "metadata": {
        "colab": {
          "base_uri": "https://localhost:8080/",
          "height": 1000
        },
        "id": "dcFBY80ECpKN",
        "outputId": "a8088b74-a4c3-4576-d47d-18667283b818"
      },
      "outputs": [
        {
          "data": {
            "text/html": [
              "<div>\n",
              "<style scoped>\n",
              "    .dataframe tbody tr th:only-of-type {\n",
              "        vertical-align: middle;\n",
              "    }\n",
              "\n",
              "    .dataframe tbody tr th {\n",
              "        vertical-align: top;\n",
              "    }\n",
              "\n",
              "    .dataframe thead th {\n",
              "        text-align: right;\n",
              "    }\n",
              "</style>\n",
              "<table border=\"1\" class=\"dataframe\">\n",
              "  <thead>\n",
              "    <tr style=\"text-align: right;\">\n",
              "      <th></th>\n",
              "      <th>Total Household Income</th>\n",
              "      <th>Region</th>\n",
              "      <th>Total Food Expenditure</th>\n",
              "      <th>Main Source of Income</th>\n",
              "      <th>Agricultural Household indicator</th>\n",
              "      <th>Bread and Cereals Expenditure</th>\n",
              "      <th>Total Rice Expenditure</th>\n",
              "      <th>Meat Expenditure</th>\n",
              "      <th>Total Fish and  marine products Expenditure</th>\n",
              "      <th>Fruit Expenditure</th>\n",
              "      <th>...</th>\n",
              "      <th>Number of Refrigerator/Freezer</th>\n",
              "      <th>Number of Washing Machine</th>\n",
              "      <th>Number of Airconditioner</th>\n",
              "      <th>Number of Car, Jeep, Van</th>\n",
              "      <th>Number of Landline/wireless telephones</th>\n",
              "      <th>Number of Cellular phone</th>\n",
              "      <th>Number of Personal Computer</th>\n",
              "      <th>Number of Stove with Oven/Gas Range</th>\n",
              "      <th>Number of Motorized Banca</th>\n",
              "      <th>Number of Motorcycle/Tricycle</th>\n",
              "    </tr>\n",
              "  </thead>\n",
              "  <tbody>\n",
              "    <tr>\n",
              "      <th>5177</th>\n",
              "      <td>662098</td>\n",
              "      <td>III - Central Luzon</td>\n",
              "      <td>214223</td>\n",
              "      <td>Enterpreneurial Activities</td>\n",
              "      <td>0</td>\n",
              "      <td>33332</td>\n",
              "      <td>10062</td>\n",
              "      <td>46808</td>\n",
              "      <td>29388</td>\n",
              "      <td>10360</td>\n",
              "      <td>...</td>\n",
              "      <td>1</td>\n",
              "      <td>1</td>\n",
              "      <td>2</td>\n",
              "      <td>1</td>\n",
              "      <td>0</td>\n",
              "      <td>2</td>\n",
              "      <td>1</td>\n",
              "      <td>1</td>\n",
              "      <td>0</td>\n",
              "      <td>1</td>\n",
              "    </tr>\n",
              "    <tr>\n",
              "      <th>7433</th>\n",
              "      <td>84179</td>\n",
              "      <td>V - Bicol Region</td>\n",
              "      <td>39414</td>\n",
              "      <td>Other sources of Income</td>\n",
              "      <td>0</td>\n",
              "      <td>19457</td>\n",
              "      <td>17256</td>\n",
              "      <td>2610</td>\n",
              "      <td>4508</td>\n",
              "      <td>1832</td>\n",
              "      <td>...</td>\n",
              "      <td>0</td>\n",
              "      <td>0</td>\n",
              "      <td>0</td>\n",
              "      <td>0</td>\n",
              "      <td>0</td>\n",
              "      <td>1</td>\n",
              "      <td>0</td>\n",
              "      <td>0</td>\n",
              "      <td>0</td>\n",
              "      <td>0</td>\n",
              "    </tr>\n",
              "    <tr>\n",
              "      <th>24037</th>\n",
              "      <td>733996</td>\n",
              "      <td>VII - Central Visayas</td>\n",
              "      <td>72153</td>\n",
              "      <td>Other sources of Income</td>\n",
              "      <td>0</td>\n",
              "      <td>26534</td>\n",
              "      <td>19271</td>\n",
              "      <td>11046</td>\n",
              "      <td>6626</td>\n",
              "      <td>8265</td>\n",
              "      <td>...</td>\n",
              "      <td>1</td>\n",
              "      <td>0</td>\n",
              "      <td>0</td>\n",
              "      <td>0</td>\n",
              "      <td>0</td>\n",
              "      <td>2</td>\n",
              "      <td>2</td>\n",
              "      <td>1</td>\n",
              "      <td>0</td>\n",
              "      <td>0</td>\n",
              "    </tr>\n",
              "    <tr>\n",
              "      <th>21958</th>\n",
              "      <td>361500</td>\n",
              "      <td>X - Northern Mindanao</td>\n",
              "      <td>92047</td>\n",
              "      <td>Other sources of Income</td>\n",
              "      <td>0</td>\n",
              "      <td>28086</td>\n",
              "      <td>23920</td>\n",
              "      <td>5865</td>\n",
              "      <td>5520</td>\n",
              "      <td>535</td>\n",
              "      <td>...</td>\n",
              "      <td>1</td>\n",
              "      <td>1</td>\n",
              "      <td>1</td>\n",
              "      <td>0</td>\n",
              "      <td>0</td>\n",
              "      <td>4</td>\n",
              "      <td>1</td>\n",
              "      <td>0</td>\n",
              "      <td>0</td>\n",
              "      <td>0</td>\n",
              "    </tr>\n",
              "    <tr>\n",
              "      <th>7671</th>\n",
              "      <td>127515</td>\n",
              "      <td>V - Bicol Region</td>\n",
              "      <td>98539</td>\n",
              "      <td>Other sources of Income</td>\n",
              "      <td>0</td>\n",
              "      <td>38316</td>\n",
              "      <td>32852</td>\n",
              "      <td>7394</td>\n",
              "      <td>18734</td>\n",
              "      <td>1074</td>\n",
              "      <td>...</td>\n",
              "      <td>0</td>\n",
              "      <td>0</td>\n",
              "      <td>0</td>\n",
              "      <td>0</td>\n",
              "      <td>0</td>\n",
              "      <td>1</td>\n",
              "      <td>0</td>\n",
              "      <td>0</td>\n",
              "      <td>0</td>\n",
              "      <td>0</td>\n",
              "    </tr>\n",
              "    <tr>\n",
              "      <th>...</th>\n",
              "      <td>...</td>\n",
              "      <td>...</td>\n",
              "      <td>...</td>\n",
              "      <td>...</td>\n",
              "      <td>...</td>\n",
              "      <td>...</td>\n",
              "      <td>...</td>\n",
              "      <td>...</td>\n",
              "      <td>...</td>\n",
              "      <td>...</td>\n",
              "      <td>...</td>\n",
              "      <td>...</td>\n",
              "      <td>...</td>\n",
              "      <td>...</td>\n",
              "      <td>...</td>\n",
              "      <td>...</td>\n",
              "      <td>...</td>\n",
              "      <td>...</td>\n",
              "      <td>...</td>\n",
              "      <td>...</td>\n",
              "      <td>...</td>\n",
              "    </tr>\n",
              "    <tr>\n",
              "      <th>24062</th>\n",
              "      <td>171800</td>\n",
              "      <td>VII - Central Visayas</td>\n",
              "      <td>77552</td>\n",
              "      <td>Enterpreneurial Activities</td>\n",
              "      <td>0</td>\n",
              "      <td>18336</td>\n",
              "      <td>8761</td>\n",
              "      <td>4530</td>\n",
              "      <td>21514</td>\n",
              "      <td>450</td>\n",
              "      <td>...</td>\n",
              "      <td>0</td>\n",
              "      <td>0</td>\n",
              "      <td>0</td>\n",
              "      <td>0</td>\n",
              "      <td>0</td>\n",
              "      <td>1</td>\n",
              "      <td>0</td>\n",
              "      <td>0</td>\n",
              "      <td>0</td>\n",
              "      <td>1</td>\n",
              "    </tr>\n",
              "    <tr>\n",
              "      <th>6716</th>\n",
              "      <td>140005</td>\n",
              "      <td>II - Cagayan Valley</td>\n",
              "      <td>96204</td>\n",
              "      <td>Wage/Salaries</td>\n",
              "      <td>0</td>\n",
              "      <td>23624</td>\n",
              "      <td>19000</td>\n",
              "      <td>27980</td>\n",
              "      <td>7700</td>\n",
              "      <td>1062</td>\n",
              "      <td>...</td>\n",
              "      <td>0</td>\n",
              "      <td>0</td>\n",
              "      <td>0</td>\n",
              "      <td>0</td>\n",
              "      <td>0</td>\n",
              "      <td>2</td>\n",
              "      <td>0</td>\n",
              "      <td>0</td>\n",
              "      <td>0</td>\n",
              "      <td>0</td>\n",
              "    </tr>\n",
              "    <tr>\n",
              "      <th>13392</th>\n",
              "      <td>138117</td>\n",
              "      <td>I - Ilocos Region</td>\n",
              "      <td>70440</td>\n",
              "      <td>Wage/Salaries</td>\n",
              "      <td>1</td>\n",
              "      <td>17761</td>\n",
              "      <td>14490</td>\n",
              "      <td>7820</td>\n",
              "      <td>10228</td>\n",
              "      <td>955</td>\n",
              "      <td>...</td>\n",
              "      <td>0</td>\n",
              "      <td>1</td>\n",
              "      <td>0</td>\n",
              "      <td>0</td>\n",
              "      <td>0</td>\n",
              "      <td>2</td>\n",
              "      <td>0</td>\n",
              "      <td>0</td>\n",
              "      <td>0</td>\n",
              "      <td>1</td>\n",
              "    </tr>\n",
              "    <tr>\n",
              "      <th>10293</th>\n",
              "      <td>594200</td>\n",
              "      <td>VII - Central Visayas</td>\n",
              "      <td>221412</td>\n",
              "      <td>Other sources of Income</td>\n",
              "      <td>0</td>\n",
              "      <td>40762</td>\n",
              "      <td>30590</td>\n",
              "      <td>9542</td>\n",
              "      <td>49640</td>\n",
              "      <td>25500</td>\n",
              "      <td>...</td>\n",
              "      <td>1</td>\n",
              "      <td>1</td>\n",
              "      <td>1</td>\n",
              "      <td>1</td>\n",
              "      <td>1</td>\n",
              "      <td>5</td>\n",
              "      <td>1</td>\n",
              "      <td>1</td>\n",
              "      <td>0</td>\n",
              "      <td>1</td>\n",
              "    </tr>\n",
              "    <tr>\n",
              "      <th>14128</th>\n",
              "      <td>169421</td>\n",
              "      <td>VI - Western Visayas</td>\n",
              "      <td>83837</td>\n",
              "      <td>Wage/Salaries</td>\n",
              "      <td>0</td>\n",
              "      <td>23400</td>\n",
              "      <td>11414</td>\n",
              "      <td>12285</td>\n",
              "      <td>18775</td>\n",
              "      <td>1125</td>\n",
              "      <td>...</td>\n",
              "      <td>0</td>\n",
              "      <td>0</td>\n",
              "      <td>0</td>\n",
              "      <td>0</td>\n",
              "      <td>0</td>\n",
              "      <td>2</td>\n",
              "      <td>0</td>\n",
              "      <td>0</td>\n",
              "      <td>0</td>\n",
              "      <td>0</td>\n",
              "    </tr>\n",
              "  </tbody>\n",
              "</table>\n",
              "<p>11121 rows × 60 columns</p>\n",
              "</div>"
            ],
            "text/plain": [
              "       Total Household Income                 Region  Total Food Expenditure  \\\n",
              "5177                   662098    III - Central Luzon                  214223   \n",
              "7433                    84179       V - Bicol Region                   39414   \n",
              "24037                  733996  VII - Central Visayas                   72153   \n",
              "21958                  361500  X - Northern Mindanao                   92047   \n",
              "7671                   127515       V - Bicol Region                   98539   \n",
              "...                       ...                    ...                     ...   \n",
              "24062                  171800  VII - Central Visayas                   77552   \n",
              "6716                   140005    II - Cagayan Valley                   96204   \n",
              "13392                  138117      I - Ilocos Region                   70440   \n",
              "10293                  594200  VII - Central Visayas                  221412   \n",
              "14128                  169421   VI - Western Visayas                   83837   \n",
              "\n",
              "            Main Source of Income  Agricultural Household indicator  \\\n",
              "5177   Enterpreneurial Activities                                 0   \n",
              "7433      Other sources of Income                                 0   \n",
              "24037     Other sources of Income                                 0   \n",
              "21958     Other sources of Income                                 0   \n",
              "7671      Other sources of Income                                 0   \n",
              "...                           ...                               ...   \n",
              "24062  Enterpreneurial Activities                                 0   \n",
              "6716                Wage/Salaries                                 0   \n",
              "13392               Wage/Salaries                                 1   \n",
              "10293     Other sources of Income                                 0   \n",
              "14128               Wage/Salaries                                 0   \n",
              "\n",
              "       Bread and Cereals Expenditure  Total Rice Expenditure  \\\n",
              "5177                           33332                   10062   \n",
              "7433                           19457                   17256   \n",
              "24037                          26534                   19271   \n",
              "21958                          28086                   23920   \n",
              "7671                           38316                   32852   \n",
              "...                              ...                     ...   \n",
              "24062                          18336                    8761   \n",
              "6716                           23624                   19000   \n",
              "13392                          17761                   14490   \n",
              "10293                          40762                   30590   \n",
              "14128                          23400                   11414   \n",
              "\n",
              "       Meat Expenditure  Total Fish and  marine products Expenditure  \\\n",
              "5177              46808                                        29388   \n",
              "7433               2610                                         4508   \n",
              "24037             11046                                         6626   \n",
              "21958              5865                                         5520   \n",
              "7671               7394                                        18734   \n",
              "...                 ...                                          ...   \n",
              "24062              4530                                        21514   \n",
              "6716              27980                                         7700   \n",
              "13392              7820                                        10228   \n",
              "10293              9542                                        49640   \n",
              "14128             12285                                        18775   \n",
              "\n",
              "       Fruit Expenditure  ...  Number of Refrigerator/Freezer  \\\n",
              "5177               10360  ...                               1   \n",
              "7433                1832  ...                               0   \n",
              "24037               8265  ...                               1   \n",
              "21958                535  ...                               1   \n",
              "7671                1074  ...                               0   \n",
              "...                  ...  ...                             ...   \n",
              "24062                450  ...                               0   \n",
              "6716                1062  ...                               0   \n",
              "13392                955  ...                               0   \n",
              "10293              25500  ...                               1   \n",
              "14128               1125  ...                               0   \n",
              "\n",
              "       Number of Washing Machine  Number of Airconditioner  \\\n",
              "5177                           1                         2   \n",
              "7433                           0                         0   \n",
              "24037                          0                         0   \n",
              "21958                          1                         1   \n",
              "7671                           0                         0   \n",
              "...                          ...                       ...   \n",
              "24062                          0                         0   \n",
              "6716                           0                         0   \n",
              "13392                          1                         0   \n",
              "10293                          1                         1   \n",
              "14128                          0                         0   \n",
              "\n",
              "       Number of Car, Jeep, Van  Number of Landline/wireless telephones  \\\n",
              "5177                          1                                       0   \n",
              "7433                          0                                       0   \n",
              "24037                         0                                       0   \n",
              "21958                         0                                       0   \n",
              "7671                          0                                       0   \n",
              "...                         ...                                     ...   \n",
              "24062                         0                                       0   \n",
              "6716                          0                                       0   \n",
              "13392                         0                                       0   \n",
              "10293                         1                                       1   \n",
              "14128                         0                                       0   \n",
              "\n",
              "       Number of Cellular phone  Number of Personal Computer  \\\n",
              "5177                          2                            1   \n",
              "7433                          1                            0   \n",
              "24037                         2                            2   \n",
              "21958                         4                            1   \n",
              "7671                          1                            0   \n",
              "...                         ...                          ...   \n",
              "24062                         1                            0   \n",
              "6716                          2                            0   \n",
              "13392                         2                            0   \n",
              "10293                         5                            1   \n",
              "14128                         2                            0   \n",
              "\n",
              "       Number of Stove with Oven/Gas Range  Number of Motorized Banca  \\\n",
              "5177                                     1                          0   \n",
              "7433                                     0                          0   \n",
              "24037                                    1                          0   \n",
              "21958                                    0                          0   \n",
              "7671                                     0                          0   \n",
              "...                                    ...                        ...   \n",
              "24062                                    0                          0   \n",
              "6716                                     0                          0   \n",
              "13392                                    0                          0   \n",
              "10293                                    1                          0   \n",
              "14128                                    0                          0   \n",
              "\n",
              "       Number of Motorcycle/Tricycle  \n",
              "5177                               1  \n",
              "7433                               0  \n",
              "24037                              0  \n",
              "21958                              0  \n",
              "7671                               0  \n",
              "...                              ...  \n",
              "24062                              1  \n",
              "6716                               0  \n",
              "13392                              1  \n",
              "10293                              1  \n",
              "14128                              0  \n",
              "\n",
              "[11121 rows x 60 columns]"
            ]
          },
          "execution_count": 13,
          "metadata": {},
          "output_type": "execute_result"
        }
      ],
      "source": [
        "amostra_do_df = df.sample(n_amostra_mce)\n",
        "amostra_do_df"
      ]
    },
    {
      "cell_type": "code",
      "execution_count": null,
      "metadata": {
        "colab": {
          "base_uri": "https://localhost:8080/"
        },
        "id": "MQqMUHq5Deyu",
        "outputId": "a82c24b1-8bab-4f5f-f7c5-bbbf8e90ddfb"
      },
      "outputs": [
        {
          "name": "stdout",
          "output_type": "stream",
          "text": [
            "['Total Household Income' 'Region' 'Total Food Expenditure'\n",
            " 'Main Source of Income' 'Agricultural Household indicator'\n",
            " 'Bread and Cereals Expenditure' 'Total Rice Expenditure'\n",
            " 'Meat Expenditure' 'Total Fish and  marine products Expenditure'\n",
            " 'Fruit Expenditure' 'Vegetables Expenditure'\n",
            " 'Restaurant and hotels Expenditure' 'Alcoholic Beverages Expenditure'\n",
            " 'Tobacco Expenditure' 'Clothing, Footwear and Other Wear Expenditure'\n",
            " 'Housing and water Expenditure' 'Imputed House Rental Value'\n",
            " 'Medical Care Expenditure' 'Transportation Expenditure'\n",
            " 'Communication Expenditure' 'Education Expenditure'\n",
            " 'Miscellaneous Goods and Services Expenditure'\n",
            " 'Special Occasions Expenditure' 'Crop Farming and Gardening expenses'\n",
            " 'Total Income from Entrepreneurial Acitivites' 'Household Head Sex'\n",
            " 'Household Head Age' 'Household Head Marital Status'\n",
            " 'Household Head Highest Grade Completed'\n",
            " 'Household Head Job or Business Indicator' 'Household Head Occupation'\n",
            " 'Household Head Class of Worker' 'Type of Household'\n",
            " 'Total Number of Family members' 'Members with age less than 5 year old'\n",
            " 'Members with age 5 - 17 years old'\n",
            " 'Total number of family members employed' 'Type of Building/House'\n",
            " 'Type of Roof' 'Type of Walls' 'House Floor Area' 'House Age'\n",
            " 'Number of bedrooms' 'Tenure Status' 'Toilet Facilities' 'Electricity'\n",
            " 'Main Source of Water Supply' 'Number of Television'\n",
            " 'Number of CD/VCD/DVD' 'Number of Component/Stereo set'\n",
            " 'Number of Refrigerator/Freezer' 'Number of Washing Machine'\n",
            " 'Number of Airconditioner' 'Number of Car, Jeep, Van'\n",
            " 'Number of Landline/wireless telephones' 'Number of Cellular phone'\n",
            " 'Number of Personal Computer' 'Number of Stove with Oven/Gas Range'\n",
            " 'Number of Motorized Banca' 'Number of Motorcycle/Tricycle']\n"
          ]
        }
      ],
      "source": [
        "print(amostra_do_df.columns.values)"
      ]
    },
    {
      "cell_type": "code",
      "execution_count": null,
      "metadata": {
        "colab": {
          "base_uri": "https://localhost:8080/",
          "height": 422
        },
        "id": "W00nj9bnuob9",
        "outputId": "67cfd9fe-4f75-42a0-d16b-b39befd59c0a"
      },
      "outputs": [
        {
          "data": {
            "text/html": [
              "<div>\n",
              "<style scoped>\n",
              "    .dataframe tbody tr th:only-of-type {\n",
              "        vertical-align: middle;\n",
              "    }\n",
              "\n",
              "    .dataframe tbody tr th {\n",
              "        vertical-align: top;\n",
              "    }\n",
              "\n",
              "    .dataframe thead th {\n",
              "        text-align: right;\n",
              "    }\n",
              "</style>\n",
              "<table border=\"1\" class=\"dataframe\">\n",
              "  <thead>\n",
              "    <tr style=\"text-align: right;\">\n",
              "      <th></th>\n",
              "      <th>Total Household Income</th>\n",
              "      <th>Total Food Expenditure</th>\n",
              "      <th>Agricultural Household indicator</th>\n",
              "      <th>Bread and Cereals Expenditure</th>\n",
              "      <th>Total Rice Expenditure</th>\n",
              "      <th>Meat Expenditure</th>\n",
              "      <th>Total Fish and  marine products Expenditure</th>\n",
              "      <th>Fruit Expenditure</th>\n",
              "      <th>Vegetables Expenditure</th>\n",
              "      <th>Restaurant and hotels Expenditure</th>\n",
              "      <th>...</th>\n",
              "      <th>Number of Refrigerator/Freezer</th>\n",
              "      <th>Number of Washing Machine</th>\n",
              "      <th>Number of Airconditioner</th>\n",
              "      <th>Number of Car, Jeep, Van</th>\n",
              "      <th>Number of Landline/wireless telephones</th>\n",
              "      <th>Number of Cellular phone</th>\n",
              "      <th>Number of Personal Computer</th>\n",
              "      <th>Number of Stove with Oven/Gas Range</th>\n",
              "      <th>Number of Motorized Banca</th>\n",
              "      <th>Number of Motorcycle/Tricycle</th>\n",
              "    </tr>\n",
              "  </thead>\n",
              "  <tbody>\n",
              "    <tr>\n",
              "      <th>count</th>\n",
              "      <td>1.112100e+04</td>\n",
              "      <td>11121.000000</td>\n",
              "      <td>11121.000000</td>\n",
              "      <td>11121.000000</td>\n",
              "      <td>11121.000000</td>\n",
              "      <td>11121.000000</td>\n",
              "      <td>11121.000000</td>\n",
              "      <td>11121.000000</td>\n",
              "      <td>11121.000000</td>\n",
              "      <td>11121.000000</td>\n",
              "      <td>...</td>\n",
              "      <td>11121.000000</td>\n",
              "      <td>11121.000000</td>\n",
              "      <td>11121.000000</td>\n",
              "      <td>11121.000000</td>\n",
              "      <td>11121.000000</td>\n",
              "      <td>11121.000000</td>\n",
              "      <td>11121.000000</td>\n",
              "      <td>11121.000000</td>\n",
              "      <td>11121.000000</td>\n",
              "      <td>11121.000000</td>\n",
              "    </tr>\n",
              "    <tr>\n",
              "      <th>mean</th>\n",
              "      <td>2.451903e+05</td>\n",
              "      <td>85024.791386</td>\n",
              "      <td>0.434943</td>\n",
              "      <td>25174.150346</td>\n",
              "      <td>18246.005215</td>\n",
              "      <td>10556.225250</td>\n",
              "      <td>10487.359410</td>\n",
              "      <td>2557.459041</td>\n",
              "      <td>5008.790037</td>\n",
              "      <td>15269.368942</td>\n",
              "      <td>...</td>\n",
              "      <td>0.395378</td>\n",
              "      <td>0.322093</td>\n",
              "      <td>0.129665</td>\n",
              "      <td>0.077601</td>\n",
              "      <td>0.058358</td>\n",
              "      <td>1.890118</td>\n",
              "      <td>0.320115</td>\n",
              "      <td>0.134790</td>\n",
              "      <td>0.012409</td>\n",
              "      <td>0.295027</td>\n",
              "    </tr>\n",
              "    <tr>\n",
              "      <th>std</th>\n",
              "      <td>2.873481e+05</td>\n",
              "      <td>51423.023589</td>\n",
              "      <td>0.686010</td>\n",
              "      <td>13274.609735</td>\n",
              "      <td>11608.094907</td>\n",
              "      <td>10544.555498</td>\n",
              "      <td>7696.027441</td>\n",
              "      <td>3618.191139</td>\n",
              "      <td>3341.321135</td>\n",
              "      <td>23081.116285</td>\n",
              "      <td>...</td>\n",
              "      <td>0.531602</td>\n",
              "      <td>0.478143</td>\n",
              "      <td>0.444088</td>\n",
              "      <td>0.332857</td>\n",
              "      <td>0.276659</td>\n",
              "      <td>1.553128</td>\n",
              "      <td>0.748763</td>\n",
              "      <td>0.354943</td>\n",
              "      <td>0.122286</td>\n",
              "      <td>0.559983</td>\n",
              "    </tr>\n",
              "    <tr>\n",
              "      <th>min</th>\n",
              "      <td>1.573200e+04</td>\n",
              "      <td>6275.000000</td>\n",
              "      <td>0.000000</td>\n",
              "      <td>0.000000</td>\n",
              "      <td>0.000000</td>\n",
              "      <td>0.000000</td>\n",
              "      <td>0.000000</td>\n",
              "      <td>0.000000</td>\n",
              "      <td>0.000000</td>\n",
              "      <td>0.000000</td>\n",
              "      <td>...</td>\n",
              "      <td>0.000000</td>\n",
              "      <td>0.000000</td>\n",
              "      <td>0.000000</td>\n",
              "      <td>0.000000</td>\n",
              "      <td>0.000000</td>\n",
              "      <td>0.000000</td>\n",
              "      <td>0.000000</td>\n",
              "      <td>0.000000</td>\n",
              "      <td>0.000000</td>\n",
              "      <td>0.000000</td>\n",
              "    </tr>\n",
              "    <tr>\n",
              "      <th>25%</th>\n",
              "      <td>1.047740e+05</td>\n",
              "      <td>50898.000000</td>\n",
              "      <td>0.000000</td>\n",
              "      <td>16401.000000</td>\n",
              "      <td>10920.000000</td>\n",
              "      <td>3330.000000</td>\n",
              "      <td>5464.000000</td>\n",
              "      <td>1020.000000</td>\n",
              "      <td>2890.000000</td>\n",
              "      <td>1915.000000</td>\n",
              "      <td>...</td>\n",
              "      <td>0.000000</td>\n",
              "      <td>0.000000</td>\n",
              "      <td>0.000000</td>\n",
              "      <td>0.000000</td>\n",
              "      <td>0.000000</td>\n",
              "      <td>1.000000</td>\n",
              "      <td>0.000000</td>\n",
              "      <td>0.000000</td>\n",
              "      <td>0.000000</td>\n",
              "      <td>0.000000</td>\n",
              "    </tr>\n",
              "    <tr>\n",
              "      <th>50%</th>\n",
              "      <td>1.626720e+05</td>\n",
              "      <td>72687.000000</td>\n",
              "      <td>0.000000</td>\n",
              "      <td>23346.000000</td>\n",
              "      <td>16600.000000</td>\n",
              "      <td>7330.000000</td>\n",
              "      <td>8620.000000</td>\n",
              "      <td>1800.000000</td>\n",
              "      <td>4311.000000</td>\n",
              "      <td>7240.000000</td>\n",
              "      <td>...</td>\n",
              "      <td>0.000000</td>\n",
              "      <td>0.000000</td>\n",
              "      <td>0.000000</td>\n",
              "      <td>0.000000</td>\n",
              "      <td>0.000000</td>\n",
              "      <td>2.000000</td>\n",
              "      <td>0.000000</td>\n",
              "      <td>0.000000</td>\n",
              "      <td>0.000000</td>\n",
              "      <td>0.000000</td>\n",
              "    </tr>\n",
              "    <tr>\n",
              "      <th>75%</th>\n",
              "      <td>2.914040e+05</td>\n",
              "      <td>105775.000000</td>\n",
              "      <td>1.000000</td>\n",
              "      <td>31631.000000</td>\n",
              "      <td>23983.000000</td>\n",
              "      <td>14283.000000</td>\n",
              "      <td>13372.000000</td>\n",
              "      <td>3085.000000</td>\n",
              "      <td>6299.000000</td>\n",
              "      <td>19880.000000</td>\n",
              "      <td>...</td>\n",
              "      <td>1.000000</td>\n",
              "      <td>1.000000</td>\n",
              "      <td>0.000000</td>\n",
              "      <td>0.000000</td>\n",
              "      <td>0.000000</td>\n",
              "      <td>3.000000</td>\n",
              "      <td>0.000000</td>\n",
              "      <td>0.000000</td>\n",
              "      <td>0.000000</td>\n",
              "      <td>1.000000</td>\n",
              "    </tr>\n",
              "    <tr>\n",
              "      <th>max</th>\n",
              "      <td>1.163936e+07</td>\n",
              "      <td>720007.000000</td>\n",
              "      <td>2.000000</td>\n",
              "      <td>437467.000000</td>\n",
              "      <td>429640.000000</td>\n",
              "      <td>261566.000000</td>\n",
              "      <td>113749.000000</td>\n",
              "      <td>273769.000000</td>\n",
              "      <td>74800.000000</td>\n",
              "      <td>475200.000000</td>\n",
              "      <td>...</td>\n",
              "      <td>5.000000</td>\n",
              "      <td>3.000000</td>\n",
              "      <td>5.000000</td>\n",
              "      <td>5.000000</td>\n",
              "      <td>4.000000</td>\n",
              "      <td>10.000000</td>\n",
              "      <td>6.000000</td>\n",
              "      <td>3.000000</td>\n",
              "      <td>3.000000</td>\n",
              "      <td>5.000000</td>\n",
              "    </tr>\n",
              "  </tbody>\n",
              "</table>\n",
              "<p>8 rows × 45 columns</p>\n",
              "</div>"
            ],
            "text/plain": [
              "       Total Household Income  Total Food Expenditure  \\\n",
              "count            1.112100e+04            11121.000000   \n",
              "mean             2.451903e+05            85024.791386   \n",
              "std              2.873481e+05            51423.023589   \n",
              "min              1.573200e+04             6275.000000   \n",
              "25%              1.047740e+05            50898.000000   \n",
              "50%              1.626720e+05            72687.000000   \n",
              "75%              2.914040e+05           105775.000000   \n",
              "max              1.163936e+07           720007.000000   \n",
              "\n",
              "       Agricultural Household indicator  Bread and Cereals Expenditure  \\\n",
              "count                      11121.000000                   11121.000000   \n",
              "mean                           0.434943                   25174.150346   \n",
              "std                            0.686010                   13274.609735   \n",
              "min                            0.000000                       0.000000   \n",
              "25%                            0.000000                   16401.000000   \n",
              "50%                            0.000000                   23346.000000   \n",
              "75%                            1.000000                   31631.000000   \n",
              "max                            2.000000                  437467.000000   \n",
              "\n",
              "       Total Rice Expenditure  Meat Expenditure  \\\n",
              "count            11121.000000      11121.000000   \n",
              "mean             18246.005215      10556.225250   \n",
              "std              11608.094907      10544.555498   \n",
              "min                  0.000000          0.000000   \n",
              "25%              10920.000000       3330.000000   \n",
              "50%              16600.000000       7330.000000   \n",
              "75%              23983.000000      14283.000000   \n",
              "max             429640.000000     261566.000000   \n",
              "\n",
              "       Total Fish and  marine products Expenditure  Fruit Expenditure  \\\n",
              "count                                 11121.000000       11121.000000   \n",
              "mean                                  10487.359410        2557.459041   \n",
              "std                                    7696.027441        3618.191139   \n",
              "min                                       0.000000           0.000000   \n",
              "25%                                    5464.000000        1020.000000   \n",
              "50%                                    8620.000000        1800.000000   \n",
              "75%                                   13372.000000        3085.000000   \n",
              "max                                  113749.000000      273769.000000   \n",
              "\n",
              "       Vegetables Expenditure  Restaurant and hotels Expenditure  ...  \\\n",
              "count            11121.000000                       11121.000000  ...   \n",
              "mean              5008.790037                       15269.368942  ...   \n",
              "std               3341.321135                       23081.116285  ...   \n",
              "min                  0.000000                           0.000000  ...   \n",
              "25%               2890.000000                        1915.000000  ...   \n",
              "50%               4311.000000                        7240.000000  ...   \n",
              "75%               6299.000000                       19880.000000  ...   \n",
              "max              74800.000000                      475200.000000  ...   \n",
              "\n",
              "       Number of Refrigerator/Freezer  Number of Washing Machine  \\\n",
              "count                    11121.000000               11121.000000   \n",
              "mean                         0.395378                   0.322093   \n",
              "std                          0.531602                   0.478143   \n",
              "min                          0.000000                   0.000000   \n",
              "25%                          0.000000                   0.000000   \n",
              "50%                          0.000000                   0.000000   \n",
              "75%                          1.000000                   1.000000   \n",
              "max                          5.000000                   3.000000   \n",
              "\n",
              "       Number of Airconditioner  Number of Car, Jeep, Van  \\\n",
              "count              11121.000000              11121.000000   \n",
              "mean                   0.129665                  0.077601   \n",
              "std                    0.444088                  0.332857   \n",
              "min                    0.000000                  0.000000   \n",
              "25%                    0.000000                  0.000000   \n",
              "50%                    0.000000                  0.000000   \n",
              "75%                    0.000000                  0.000000   \n",
              "max                    5.000000                  5.000000   \n",
              "\n",
              "       Number of Landline/wireless telephones  Number of Cellular phone  \\\n",
              "count                            11121.000000              11121.000000   \n",
              "mean                                 0.058358                  1.890118   \n",
              "std                                  0.276659                  1.553128   \n",
              "min                                  0.000000                  0.000000   \n",
              "25%                                  0.000000                  1.000000   \n",
              "50%                                  0.000000                  2.000000   \n",
              "75%                                  0.000000                  3.000000   \n",
              "max                                  4.000000                 10.000000   \n",
              "\n",
              "       Number of Personal Computer  Number of Stove with Oven/Gas Range  \\\n",
              "count                 11121.000000                         11121.000000   \n",
              "mean                      0.320115                             0.134790   \n",
              "std                       0.748763                             0.354943   \n",
              "min                       0.000000                             0.000000   \n",
              "25%                       0.000000                             0.000000   \n",
              "50%                       0.000000                             0.000000   \n",
              "75%                       0.000000                             0.000000   \n",
              "max                       6.000000                             3.000000   \n",
              "\n",
              "       Number of Motorized Banca  Number of Motorcycle/Tricycle  \n",
              "count               11121.000000                   11121.000000  \n",
              "mean                    0.012409                       0.295027  \n",
              "std                     0.122286                       0.559983  \n",
              "min                     0.000000                       0.000000  \n",
              "25%                     0.000000                       0.000000  \n",
              "50%                     0.000000                       0.000000  \n",
              "75%                     0.000000                       1.000000  \n",
              "max                     3.000000                       5.000000  \n",
              "\n",
              "[8 rows x 45 columns]"
            ]
          },
          "execution_count": 15,
          "metadata": {},
          "output_type": "execute_result"
        }
      ],
      "source": [
        "#Análise descritiva das variáveis quantitativas:\n",
        "amostra_do_df.describe()"
      ]
    },
    {
      "cell_type": "markdown",
      "metadata": {
        "id": "6UjZScWuvLsl"
      },
      "source": [
        "# **Milestone 2 - Inferência Estatística**"
      ]
    },
    {
      "cell_type": "markdown",
      "metadata": {
        "id": "26xRjvSvvVG_"
      },
      "source": [
        "## **1. Utilizando um nível de confiança de 95%, calcule o intervalo de confiança do dinheiro gasto com saúde e educação (colunas: Medical Care Expenditure e Education Expenditure).**"
      ]
    },
    {
      "cell_type": "code",
      "execution_count": null,
      "metadata": {
        "id": "s2L1hNhMvf-N"
      },
      "outputs": [],
      "source": [
        "confianca = 0.95\n",
        "significancia = 1 - confianca\n",
        "n = len(df)\n",
        "gl = n - 1 # graus de liberdade"
      ]
    },
    {
      "cell_type": "code",
      "execution_count": null,
      "metadata": {
        "colab": {
          "base_uri": "https://localhost:8080/",
          "height": 201
        },
        "id": "Bun5wWRBxEbE",
        "outputId": "de31ab37-aaf3-4fc5-8550-820baaced758"
      },
      "outputs": [
        {
          "data": {
            "text/html": [
              "<div>\n",
              "<style scoped>\n",
              "    .dataframe tbody tr th:only-of-type {\n",
              "        vertical-align: middle;\n",
              "    }\n",
              "\n",
              "    .dataframe tbody tr th {\n",
              "        vertical-align: top;\n",
              "    }\n",
              "\n",
              "    .dataframe thead th {\n",
              "        text-align: right;\n",
              "    }\n",
              "</style>\n",
              "<table border=\"1\" class=\"dataframe\">\n",
              "  <thead>\n",
              "    <tr style=\"text-align: right;\">\n",
              "      <th></th>\n",
              "      <th>Medical Care Expenditure</th>\n",
              "      <th>Education Expenditure</th>\n",
              "    </tr>\n",
              "  </thead>\n",
              "  <tbody>\n",
              "    <tr>\n",
              "      <th>0</th>\n",
              "      <td>3457</td>\n",
              "      <td>36200</td>\n",
              "    </tr>\n",
              "    <tr>\n",
              "      <th>1</th>\n",
              "      <td>3520</td>\n",
              "      <td>29300</td>\n",
              "    </tr>\n",
              "    <tr>\n",
              "      <th>2</th>\n",
              "      <td>70</td>\n",
              "      <td>425</td>\n",
              "    </tr>\n",
              "    <tr>\n",
              "      <th>3</th>\n",
              "      <td>60</td>\n",
              "      <td>300</td>\n",
              "    </tr>\n",
              "    <tr>\n",
              "      <th>4</th>\n",
              "      <td>140</td>\n",
              "      <td>0</td>\n",
              "    </tr>\n",
              "  </tbody>\n",
              "</table>\n",
              "</div>"
            ],
            "text/plain": [
              "   Medical Care Expenditure  Education Expenditure\n",
              "0                      3457                  36200\n",
              "1                      3520                  29300\n",
              "2                        70                    425\n",
              "3                        60                    300\n",
              "4                       140                      0"
            ]
          },
          "execution_count": 17,
          "metadata": {},
          "output_type": "execute_result"
        }
      ],
      "source": [
        "colunas_selecionadas = ['Medical Care Expenditure', 'Education Expenditure']\n",
        "df_intervalo_confianca = df.filter(items = colunas_selecionadas)\n",
        "df_intervalo_confianca.head(5)"
      ]
    },
    {
      "cell_type": "code",
      "execution_count": null,
      "metadata": {
        "id": "2Kh6NaZyvgFp"
      },
      "outputs": [],
      "source": [
        "media_medical= df['Medical Care Expenditure'].mean()\n",
        "media_education = df['Education Expenditure'].mean()"
      ]
    },
    {
      "cell_type": "code",
      "execution_count": null,
      "metadata": {
        "id": "GY6rwDbpvgIn"
      },
      "outputs": [],
      "source": [
        "# Desvio para Medical Care Expenditure:\n",
        "desvio_medical= df['Medical Care Expenditure'].std()\n",
        "# Desvio para Education Expenditure:\n",
        "desvio_education = df['Education Expenditure'].std()"
      ]
    },
    {
      "cell_type": "code",
      "execution_count": null,
      "metadata": {
        "colab": {
          "base_uri": "https://localhost:8080/"
        },
        "id": "3eN-lLT4vgL6",
        "outputId": "93fecadb-e7d8-498b-aa58-0da983e23cce"
      },
      "outputs": [
        {
          "data": {
            "text/plain": [
              "1.9600210901697244"
            ]
          },
          "execution_count": 20,
          "metadata": {},
          "output_type": "execute_result"
        }
      ],
      "source": [
        "# T de alpha: \n",
        "t_alpha = t_student.ppf(confianca + significancia / 2, df=gl)\n",
        "t_alpha"
      ]
    },
    {
      "cell_type": "code",
      "execution_count": null,
      "metadata": {
        "colab": {
          "base_uri": "https://localhost:8080/"
        },
        "id": "yDNatq6Vvgz3",
        "outputId": "15561d26-5cee-4dd7-beaa-bbe74890622f"
      },
      "outputs": [
        {
          "data": {
            "text/plain": [
              "258.6968822547701"
            ]
          },
          "execution_count": 21,
          "metadata": {},
          "output_type": "execute_result"
        }
      ],
      "source": [
        "# Erro para Medical Care Expenditure:\n",
        "erro_medical = t_alpha * (desvio_medical / np.sqrt(n))\n",
        "erro_medical"
      ]
    },
    {
      "cell_type": "code",
      "execution_count": null,
      "metadata": {
        "colab": {
          "base_uri": "https://localhost:8080/"
        },
        "id": "09M38pvkvg3p",
        "outputId": "a3667d38-a571-41dd-805d-5999eb40f623"
      },
      "outputs": [
        {
          "data": {
            "text/plain": [
              "204.04924888910872"
            ]
          },
          "execution_count": 22,
          "metadata": {},
          "output_type": "execute_result"
        }
      ],
      "source": [
        "# Erro  para Education Expenditure:\n",
        "erro_education = t_alpha * (desvio_education / np.sqrt(n))\n",
        "erro_education"
      ]
    },
    {
      "cell_type": "code",
      "execution_count": null,
      "metadata": {
        "colab": {
          "base_uri": "https://localhost:8080/"
        },
        "id": "OGLuyn793YoI",
        "outputId": "165349c7-435d-4b75-abe8-0863d16d9699"
      },
      "outputs": [
        {
          "data": {
            "text/plain": [
              "(6901.534053620446, 7418.927818129987)"
            ]
          },
          "execution_count": 23,
          "metadata": {},
          "output_type": "execute_result"
        }
      ],
      "source": [
        "# Intervalo para Medical Care Expenditure:\n",
        "(media_medical - erro_medical,  media_medical + erro_medical)"
      ]
    },
    {
      "cell_type": "code",
      "execution_count": null,
      "metadata": {
        "colab": {
          "base_uri": "https://localhost:8080/"
        },
        "id": "t-fmrud13fZZ",
        "outputId": "77290a99-503c-4b76-e6c1-ec2a4ba5a13d"
      },
      "outputs": [
        {
          "data": {
            "text/plain": [
              "(7269.451232528184, 7677.549730306401)"
            ]
          },
          "execution_count": 24,
          "metadata": {},
          "output_type": "execute_result"
        }
      ],
      "source": [
        "# Intervalo para Education Expenditure:\n",
        "(media_education - erro_education,  media_education + erro_education)"
      ]
    },
    {
      "cell_type": "markdown",
      "metadata": {
        "id": "wWiO9Lzwvhqb"
      },
      "source": [
        "## **2. Calcule se há diferença de média de número total de membros da família pelo sexo do chefe de família (Household Head Sex e Total Number of Family members) com 95% de confiança.**"
      ]
    },
    {
      "cell_type": "code",
      "execution_count": null,
      "metadata": {
        "colab": {
          "base_uri": "https://localhost:8080/",
          "height": 201
        },
        "id": "u_40BnFyvqJv",
        "outputId": "5f85ec2c-240d-4b82-ac3c-77875167cd9c"
      },
      "outputs": [
        {
          "data": {
            "text/html": [
              "<div>\n",
              "<style scoped>\n",
              "    .dataframe tbody tr th:only-of-type {\n",
              "        vertical-align: middle;\n",
              "    }\n",
              "\n",
              "    .dataframe tbody tr th {\n",
              "        vertical-align: top;\n",
              "    }\n",
              "\n",
              "    .dataframe thead th {\n",
              "        text-align: right;\n",
              "    }\n",
              "</style>\n",
              "<table border=\"1\" class=\"dataframe\">\n",
              "  <thead>\n",
              "    <tr style=\"text-align: right;\">\n",
              "      <th></th>\n",
              "      <th>Household Head Sex</th>\n",
              "      <th>Total Number of Family members</th>\n",
              "    </tr>\n",
              "  </thead>\n",
              "  <tbody>\n",
              "    <tr>\n",
              "      <th>0</th>\n",
              "      <td>Female</td>\n",
              "      <td>4</td>\n",
              "    </tr>\n",
              "    <tr>\n",
              "      <th>1</th>\n",
              "      <td>Male</td>\n",
              "      <td>3</td>\n",
              "    </tr>\n",
              "    <tr>\n",
              "      <th>2</th>\n",
              "      <td>Male</td>\n",
              "      <td>6</td>\n",
              "    </tr>\n",
              "    <tr>\n",
              "      <th>3</th>\n",
              "      <td>Male</td>\n",
              "      <td>3</td>\n",
              "    </tr>\n",
              "    <tr>\n",
              "      <th>4</th>\n",
              "      <td>Male</td>\n",
              "      <td>4</td>\n",
              "    </tr>\n",
              "  </tbody>\n",
              "</table>\n",
              "</div>"
            ],
            "text/plain": [
              "  Household Head Sex  Total Number of Family members\n",
              "0             Female                               4\n",
              "1               Male                               3\n",
              "2               Male                               6\n",
              "3               Male                               3\n",
              "4               Male                               4"
            ]
          },
          "execution_count": 25,
          "metadata": {},
          "output_type": "execute_result"
        }
      ],
      "source": [
        "colunas_selecionadas2= ['Household Head Sex', 'Total Number of Family members']\n",
        "df_diferenca_media = df.filter(items = colunas_selecionadas2)\n",
        "df_diferenca_media.head(5)"
      ]
    },
    {
      "cell_type": "code",
      "execution_count": null,
      "metadata": {
        "colab": {
          "base_uri": "https://localhost:8080/"
        },
        "id": "FUOv2-wINgvS",
        "outputId": "12c59f27-1727-4488-91ff-9cfa971fbd1f"
      },
      "outputs": [
        {
          "data": {
            "text/plain": [
              "41544"
            ]
          },
          "execution_count": 36,
          "metadata": {},
          "output_type": "execute_result"
        }
      ],
      "source": [
        "n_soma_amostras= df_diferenca_media['Total Number of Family members'].count()\n",
        "n_soma_amostras"
      ]
    },
    {
      "cell_type": "code",
      "execution_count": null,
      "metadata": {
        "id": "Z3oPKsWVC6H6",
        "outputId": "ee7fe134-9de4-4efd-f769-94e0da61dca7"
      },
      "outputs": [
        {
          "data": {
            "text/plain": [
              "Male      32483\n",
              "Female     9061\n",
              "Name: Household Head Sex, dtype: int64"
            ]
          },
          "execution_count": 38,
          "metadata": {},
          "output_type": "execute_result"
        }
      ],
      "source": [
        "df_diferenca_media['Household Head Sex'].value_counts()"
      ]
    },
    {
      "cell_type": "code",
      "execution_count": null,
      "metadata": {
        "id": "4ojjZy-AC6H8"
      },
      "outputs": [],
      "source": [
        "df_homem = df_diferenca_media[df_diferenca_media['Household Head Sex'] == 'Male']\n",
        "df_mulher = df_diferenca_media[df_diferenca_media['Household Head Sex'] == 'Female']"
      ]
    },
    {
      "cell_type": "code",
      "execution_count": null,
      "metadata": {
        "id": "F5_vdSv8C6H-"
      },
      "outputs": [],
      "source": [
        "homem_sample = df_homem.sample(n=9000, random_state = 101)\n",
        "mulher_sample = df_mulher.sample(n=9000, random_state = 101)"
      ]
    },
    {
      "cell_type": "code",
      "execution_count": null,
      "metadata": {
        "id": "mdKI3C_6C6IA",
        "outputId": "7091be87-1f29-45a5-9757-0bd60b870684"
      },
      "outputs": [
        {
          "data": {
            "text/plain": [
              "(9000, 2)"
            ]
          },
          "execution_count": 49,
          "metadata": {},
          "output_type": "execute_result"
        }
      ],
      "source": [
        "homem_sample.shape"
      ]
    },
    {
      "cell_type": "code",
      "execution_count": null,
      "metadata": {
        "id": "TIyGVO-3C6IB"
      },
      "outputs": [],
      "source": [
        "confianca = 0.95\n",
        "significancia = 1 - confianca"
      ]
    },
    {
      "cell_type": "markdown",
      "metadata": {
        "id": "q3-MBBDKC6IB"
      },
      "source": [
        "- h0: media_homem = media_mulher\n",
        "- h1: media homem != media mulher"
      ]
    },
    {
      "cell_type": "markdown",
      "metadata": {
        "id": "suPvCq52C6IC"
      },
      "source": [
        "---"
      ]
    },
    {
      "cell_type": "markdown",
      "metadata": {
        "id": "OtovJiOzC6ID"
      },
      "source": [
        "- h0: media_homem - media_mulher = 0\n",
        "- h1: media homem - media mulher != 0"
      ]
    },
    {
      "cell_type": "code",
      "execution_count": null,
      "metadata": {
        "id": "P1e_2d84C6IF"
      },
      "outputs": [],
      "source": [
        "D0 = 0"
      ]
    },
    {
      "cell_type": "code",
      "execution_count": null,
      "metadata": {
        "id": "KL4QRSLtC6IH",
        "outputId": "2910c77b-ff78-4311-acd1-cd62be8bc47a"
      },
      "outputs": [
        {
          "data": {
            "text/plain": [
              "1.959963984540054"
            ]
          },
          "execution_count": 55,
          "metadata": {},
          "output_type": "execute_result"
        }
      ],
      "source": [
        "z_alpha_2 = norm.ppf(confianca + significancia/2)\n",
        "z_alpha_2"
      ]
    },
    {
      "cell_type": "code",
      "execution_count": null,
      "metadata": {
        "id": "Ir7P5u2WC6II"
      },
      "outputs": [],
      "source": [
        "n = 9000\n",
        "\n",
        "media_h = homem_sample['Total Number of Family members'].mean()\n",
        "desvio_h = homem_sample['Total Number of Family members'].std()\n",
        "\n",
        "media_m = mulher_sample['Total Number of Family members'].mean()\n",
        "desvio_m = mulher_sample['Total Number of Family members'].std()"
      ]
    },
    {
      "cell_type": "code",
      "execution_count": null,
      "metadata": {
        "id": "tIksVJ0-C6IK",
        "outputId": "bc4b8245-aa46-4ac5-b165-38e305f8ea7b"
      },
      "outputs": [
        {
          "data": {
            "text/plain": [
              "29.748800543903563"
            ]
          },
          "execution_count": 58,
          "metadata": {},
          "output_type": "execute_result"
        }
      ],
      "source": [
        "numerador = (media_h - media_m) - D0\n",
        "denominador = np.sqrt(desvio_h**2/n + desvio_m**2/n)\n",
        "z = numerador/denominador\n",
        "z"
      ]
    },
    {
      "cell_type": "code",
      "execution_count": null,
      "metadata": {
        "id": "rjG0TOt3C6IL",
        "outputId": "6887f0a2-e220-4c22-a06f-8a2a90f391c1"
      },
      "outputs": [
        {
          "data": {
            "text/plain": [
              "True"
            ]
          },
          "execution_count": 59,
          "metadata": {},
          "output_type": "execute_result"
        }
      ],
      "source": [
        "z_alpha_2 < z"
      ]
    },
    {
      "cell_type": "markdown",
      "metadata": {
        "id": "OkBBsBcWC6IM"
      },
      "source": [
        "z > z_alpha_2, logo, descartamos h0"
      ]
    },
    {
      "cell_type": "code",
      "execution_count": null,
      "metadata": {
        "id": "QxrGAVzeC6IM",
        "outputId": "c16a645d-ba99-4c9a-ee81-fd4713f080f9"
      },
      "outputs": [
        {
          "data": {
            "text/plain": [
              "(1.7972077202511423e-194, 100)"
            ]
          },
          "execution_count": 63,
          "metadata": {},
          "output_type": "execute_result"
        }
      ],
      "source": [
        "p_valor = norm.sf(z)*2\n",
        "p_valor,100"
      ]
    },
    {
      "cell_type": "code",
      "execution_count": null,
      "metadata": {
        "id": "er7AJvYrC6IN",
        "outputId": "e7143042-cdf1-4794-c0ae-864a68b21a46"
      },
      "outputs": [
        {
          "data": {
            "text/plain": [
              "True"
            ]
          },
          "execution_count": 62,
          "metadata": {},
          "output_type": "execute_result"
        }
      ],
      "source": [
        "p_valor <= significancia"
      ]
    },
    {
      "cell_type": "markdown",
      "metadata": {
        "id": "aI5Gnux_C6IO"
      },
      "source": [
        "#### Logo, de fato rejeitamos H0, e concluímos que em um intervalo de 95% de confiança, existe diferença na média de total de membros entre as famílias chefiadas por homens e mulheres."
      ]
    },
    {
      "cell_type": "markdown",
      "metadata": {
        "id": "UIY1zkHNC6IP"
      },
      "source": [
        "---"
      ]
    },
    {
      "cell_type": "markdown",
      "metadata": {
        "id": "cZmPQRM8vsp8"
      },
      "source": [
        "## **3. Verifique se há diferença de média total de renda da família (Total Household Income) de acordo com a fonte salarial (Main Source of Income).**\n",
        "\n",
        "*Considere “Enteroreneurial activities” e “other sources of income” como \"outros\".* "
      ]
    },
    {
      "cell_type": "code",
      "execution_count": null,
      "metadata": {
        "id": "-Ze6PsWLv4uw",
        "outputId": "4725310c-1ff0-4ff9-d9a1-f6e3e2bdcda2"
      },
      "outputs": [
        {
          "data": {
            "text/plain": [
              "array(['Wage/Salaries', 'Other sources of Income',\n",
              "       'Enterpreneurial Activities'], dtype=object)"
            ]
          },
          "execution_count": 68,
          "metadata": {},
          "output_type": "execute_result"
        }
      ],
      "source": [
        "df['Main Source of Income'].unique()"
      ]
    },
    {
      "cell_type": "code",
      "execution_count": null,
      "metadata": {
        "id": "JkfICzPxv44B",
        "outputId": "819af21f-3616-4312-cbca-217464abd034"
      },
      "outputs": [
        {
          "data": {
            "text/html": [
              "<div>\n",
              "<style scoped>\n",
              "    .dataframe tbody tr th:only-of-type {\n",
              "        vertical-align: middle;\n",
              "    }\n",
              "\n",
              "    .dataframe tbody tr th {\n",
              "        vertical-align: top;\n",
              "    }\n",
              "\n",
              "    .dataframe thead th {\n",
              "        text-align: right;\n",
              "    }\n",
              "</style>\n",
              "<table border=\"1\" class=\"dataframe\">\n",
              "  <thead>\n",
              "    <tr style=\"text-align: right;\">\n",
              "      <th></th>\n",
              "      <th>Main Source of Income</th>\n",
              "      <th>Total Household Income</th>\n",
              "    </tr>\n",
              "  </thead>\n",
              "  <tbody>\n",
              "    <tr>\n",
              "      <th>0</th>\n",
              "      <td>Wage/Salaries</td>\n",
              "      <td>480332</td>\n",
              "    </tr>\n",
              "    <tr>\n",
              "      <th>1</th>\n",
              "      <td>Wage/Salaries</td>\n",
              "      <td>198235</td>\n",
              "    </tr>\n",
              "    <tr>\n",
              "      <th>2</th>\n",
              "      <td>Wage/Salaries</td>\n",
              "      <td>82785</td>\n",
              "    </tr>\n",
              "    <tr>\n",
              "      <th>3</th>\n",
              "      <td>Wage/Salaries</td>\n",
              "      <td>107589</td>\n",
              "    </tr>\n",
              "    <tr>\n",
              "      <th>4</th>\n",
              "      <td>Wage/Salaries</td>\n",
              "      <td>189322</td>\n",
              "    </tr>\n",
              "  </tbody>\n",
              "</table>\n",
              "</div>"
            ],
            "text/plain": [
              "  Main Source of Income  Total Household Income\n",
              "0         Wage/Salaries                  480332\n",
              "1         Wage/Salaries                  198235\n",
              "2         Wage/Salaries                   82785\n",
              "3         Wage/Salaries                  107589\n",
              "4         Wage/Salaries                  189322"
            ]
          },
          "execution_count": 71,
          "metadata": {},
          "output_type": "execute_result"
        }
      ],
      "source": [
        "df_filtrado = df[['Main Source of Income', 'Total Household Income']]\n",
        "df_filtrado.head()"
      ]
    },
    {
      "cell_type": "code",
      "execution_count": null,
      "metadata": {
        "id": "ZRBMRkG_v470",
        "outputId": "4e2e6254-f8fd-4082-9cd3-31957893823a"
      },
      "outputs": [
        {
          "data": {
            "text/plain": [
              "Wage/Salaries                 20388\n",
              "Other sources of Income       10836\n",
              "Enterpreneurial Activities    10320\n",
              "Name: Main Source of Income, dtype: int64"
            ]
          },
          "execution_count": 72,
          "metadata": {},
          "output_type": "execute_result"
        }
      ],
      "source": [
        "df_filtrado['Main Source of Income'].value_counts()"
      ]
    },
    {
      "cell_type": "code",
      "execution_count": null,
      "metadata": {
        "id": "-WLTXb0ev5AA"
      },
      "outputs": [],
      "source": [
        "df_wage = df_filtrado[df_filtrado['Main Source of Income'] == 'Wage/Salaries']\n",
        "df_outros = df_filtrado[df_filtrado['Main Source of Income'] != 'Wage/Salaries']"
      ]
    },
    {
      "cell_type": "code",
      "execution_count": null,
      "metadata": {
        "id": "JD_HCRPCv5H5"
      },
      "outputs": [],
      "source": [
        "confianca = 0.95\n",
        "significancia = 1 - confianca"
      ]
    },
    {
      "cell_type": "markdown",
      "metadata": {
        "id": "L8X82YtuC6IT"
      },
      "source": [
        " - h0: media_wage = media_outros\n",
        " - h1: media_wage != media_outros"
      ]
    },
    {
      "cell_type": "code",
      "execution_count": null,
      "metadata": {
        "id": "7VUjuaDPC6IU",
        "outputId": "048237f4-edc3-44ab-8886-0c7f400f89a4"
      },
      "outputs": [
        {
          "data": {
            "text/plain": [
              "1.959963984540054"
            ]
          },
          "execution_count": 77,
          "metadata": {},
          "output_type": "execute_result"
        }
      ],
      "source": [
        "z_alpha_2 = norm.ppf(confianca + significancia/2)\n",
        "z_alpha_2"
      ]
    },
    {
      "cell_type": "code",
      "execution_count": null,
      "metadata": {
        "id": "i3SCcJW4C6IV",
        "outputId": "c24b6901-9453-4695-c33b-ddb13c9937ea"
      },
      "outputs": [
        {
          "data": {
            "text/plain": [
              "(267414.9520796547, 228417.14747589338)"
            ]
          },
          "execution_count": 79,
          "metadata": {},
          "output_type": "execute_result"
        }
      ],
      "source": [
        "media_wage = df_wage['Total Household Income'].mean()\n",
        "desvio_wage = df_wage['Total Household Income'].std()\n",
        "n_wage = df_wage.shape[0]\n",
        "\n",
        "media_outros = df_outros['Total Household Income'].mean()\n",
        "desvio_outros = df_outros['Total Household Income'].std()\n",
        "n_outros = df_outros.shape[0]\n",
        "\n",
        "media_wage, media_outros"
      ]
    },
    {
      "cell_type": "code",
      "execution_count": null,
      "metadata": {
        "id": "U855g-Y0C6IW",
        "outputId": "7bbb88bb-92f7-492c-ef65-48ada6f312cb"
      },
      "outputs": [
        {
          "data": {
            "text/plain": [
              "13.939448995426796"
            ]
          },
          "execution_count": 80,
          "metadata": {},
          "output_type": "execute_result"
        }
      ],
      "source": [
        "numerador = media_wage - media_outros\n",
        "denominador = np.sqrt(desvio_wage**2/n_wage + desvio_outros**2/n_outros)\n",
        "z_teste = numerador/denominador\n",
        "z_teste"
      ]
    },
    {
      "cell_type": "code",
      "execution_count": null,
      "metadata": {
        "id": "6HZwcrq2v5PS",
        "outputId": "db061a39-ad5d-47cf-8687-e2433701b291"
      },
      "outputs": [
        {
          "data": {
            "text/plain": [
              "True"
            ]
          },
          "execution_count": 82,
          "metadata": {},
          "output_type": "execute_result"
        }
      ],
      "source": [
        "z_teste > z_alpha_2"
      ]
    },
    {
      "cell_type": "code",
      "execution_count": null,
      "metadata": {
        "id": "MVYUeFnTv5WM",
        "outputId": "a0cf52cd-dcad-4626-ab13-0f45bd6ee1eb"
      },
      "outputs": [
        {
          "data": {
            "text/plain": [
              "3.6474520098527646e-44"
            ]
          },
          "execution_count": 87,
          "metadata": {},
          "output_type": "execute_result"
        }
      ],
      "source": [
        "p_valor = norm.sf(z_teste)*2\n",
        "p_valor"
      ]
    },
    {
      "cell_type": "markdown",
      "metadata": {
        "id": "0ulh-z1vv5eV"
      },
      "source": [
        "#### Logo, existe diferença entre as rendas totais médias entre quem tem como fonte de renda um salário e outros métodos."
      ]
    },
    {
      "cell_type": "markdown",
      "metadata": {
        "id": "hlXh_GsBv5in"
      },
      "source": [
        "---"
      ]
    },
    {
      "cell_type": "markdown",
      "metadata": {
        "id": "pgnV5arIX_f_"
      },
      "source": [
        "#**Milestone 3 - Previsão de Renda Com Regressão Linear**\n",
        "\n"
      ]
    },
    {
      "cell_type": "markdown",
      "metadata": {
        "id": "_kTBZ3iKYIcP"
      },
      "source": [
        "##**1.Usando Regressão Linear, crie um modelo de previsão de renda de forma a minimizar o erro. Considere 70% dos dados para treinar o modelo, e 30% para testá-lo. Por fim, utilize as métricas de avaliação do modelo que foram estudadas para validá-lo.**"
      ]
    },
    {
      "cell_type": "code",
      "execution_count": null,
      "metadata": {
        "id": "TDkWh_mDC6Ic",
        "outputId": "8d423cf8-0d60-4fae-d8e7-3855c431260e"
      },
      "outputs": [
        {
          "data": {
            "text/html": [
              "<div>\n",
              "<style scoped>\n",
              "    .dataframe tbody tr th:only-of-type {\n",
              "        vertical-align: middle;\n",
              "    }\n",
              "\n",
              "    .dataframe tbody tr th {\n",
              "        vertical-align: top;\n",
              "    }\n",
              "\n",
              "    .dataframe thead th {\n",
              "        text-align: right;\n",
              "    }\n",
              "</style>\n",
              "<table border=\"1\" class=\"dataframe\">\n",
              "  <thead>\n",
              "    <tr style=\"text-align: right;\">\n",
              "      <th></th>\n",
              "      <th>Total Household Income</th>\n",
              "      <th>Region</th>\n",
              "      <th>Total Food Expenditure</th>\n",
              "      <th>Main Source of Income</th>\n",
              "      <th>Agricultural Household indicator</th>\n",
              "      <th>Bread and Cereals Expenditure</th>\n",
              "      <th>Total Rice Expenditure</th>\n",
              "      <th>Meat Expenditure</th>\n",
              "      <th>Total Fish and  marine products Expenditure</th>\n",
              "      <th>Fruit Expenditure</th>\n",
              "      <th>...</th>\n",
              "      <th>Number of Refrigerator/Freezer</th>\n",
              "      <th>Number of Washing Machine</th>\n",
              "      <th>Number of Airconditioner</th>\n",
              "      <th>Number of Car, Jeep, Van</th>\n",
              "      <th>Number of Landline/wireless telephones</th>\n",
              "      <th>Number of Cellular phone</th>\n",
              "      <th>Number of Personal Computer</th>\n",
              "      <th>Number of Stove with Oven/Gas Range</th>\n",
              "      <th>Number of Motorized Banca</th>\n",
              "      <th>Number of Motorcycle/Tricycle</th>\n",
              "    </tr>\n",
              "  </thead>\n",
              "  <tbody>\n",
              "    <tr>\n",
              "      <th>0</th>\n",
              "      <td>480332</td>\n",
              "      <td>CAR</td>\n",
              "      <td>117848</td>\n",
              "      <td>Wage/Salaries</td>\n",
              "      <td>0</td>\n",
              "      <td>42140</td>\n",
              "      <td>38300</td>\n",
              "      <td>24676</td>\n",
              "      <td>16806</td>\n",
              "      <td>3325</td>\n",
              "      <td>...</td>\n",
              "      <td>1</td>\n",
              "      <td>1</td>\n",
              "      <td>0</td>\n",
              "      <td>0</td>\n",
              "      <td>0</td>\n",
              "      <td>2</td>\n",
              "      <td>1</td>\n",
              "      <td>0</td>\n",
              "      <td>0</td>\n",
              "      <td>1</td>\n",
              "    </tr>\n",
              "    <tr>\n",
              "      <th>1</th>\n",
              "      <td>198235</td>\n",
              "      <td>CAR</td>\n",
              "      <td>67766</td>\n",
              "      <td>Wage/Salaries</td>\n",
              "      <td>0</td>\n",
              "      <td>17329</td>\n",
              "      <td>13008</td>\n",
              "      <td>17434</td>\n",
              "      <td>11073</td>\n",
              "      <td>2035</td>\n",
              "      <td>...</td>\n",
              "      <td>0</td>\n",
              "      <td>1</td>\n",
              "      <td>0</td>\n",
              "      <td>0</td>\n",
              "      <td>0</td>\n",
              "      <td>3</td>\n",
              "      <td>1</td>\n",
              "      <td>0</td>\n",
              "      <td>0</td>\n",
              "      <td>2</td>\n",
              "    </tr>\n",
              "    <tr>\n",
              "      <th>2</th>\n",
              "      <td>82785</td>\n",
              "      <td>CAR</td>\n",
              "      <td>61609</td>\n",
              "      <td>Wage/Salaries</td>\n",
              "      <td>1</td>\n",
              "      <td>34182</td>\n",
              "      <td>32001</td>\n",
              "      <td>7783</td>\n",
              "      <td>2590</td>\n",
              "      <td>1730</td>\n",
              "      <td>...</td>\n",
              "      <td>0</td>\n",
              "      <td>0</td>\n",
              "      <td>0</td>\n",
              "      <td>0</td>\n",
              "      <td>0</td>\n",
              "      <td>0</td>\n",
              "      <td>0</td>\n",
              "      <td>0</td>\n",
              "      <td>0</td>\n",
              "      <td>0</td>\n",
              "    </tr>\n",
              "    <tr>\n",
              "      <th>3</th>\n",
              "      <td>107589</td>\n",
              "      <td>CAR</td>\n",
              "      <td>78189</td>\n",
              "      <td>Wage/Salaries</td>\n",
              "      <td>0</td>\n",
              "      <td>34030</td>\n",
              "      <td>28659</td>\n",
              "      <td>10914</td>\n",
              "      <td>10812</td>\n",
              "      <td>690</td>\n",
              "      <td>...</td>\n",
              "      <td>0</td>\n",
              "      <td>0</td>\n",
              "      <td>0</td>\n",
              "      <td>0</td>\n",
              "      <td>0</td>\n",
              "      <td>1</td>\n",
              "      <td>0</td>\n",
              "      <td>0</td>\n",
              "      <td>0</td>\n",
              "      <td>0</td>\n",
              "    </tr>\n",
              "    <tr>\n",
              "      <th>4</th>\n",
              "      <td>189322</td>\n",
              "      <td>CAR</td>\n",
              "      <td>94625</td>\n",
              "      <td>Wage/Salaries</td>\n",
              "      <td>0</td>\n",
              "      <td>34820</td>\n",
              "      <td>30167</td>\n",
              "      <td>18391</td>\n",
              "      <td>11309</td>\n",
              "      <td>1395</td>\n",
              "      <td>...</td>\n",
              "      <td>1</td>\n",
              "      <td>0</td>\n",
              "      <td>0</td>\n",
              "      <td>0</td>\n",
              "      <td>0</td>\n",
              "      <td>3</td>\n",
              "      <td>0</td>\n",
              "      <td>0</td>\n",
              "      <td>0</td>\n",
              "      <td>1</td>\n",
              "    </tr>\n",
              "  </tbody>\n",
              "</table>\n",
              "<p>5 rows × 60 columns</p>\n",
              "</div>"
            ],
            "text/plain": [
              "   Total Household Income Region  Total Food Expenditure  \\\n",
              "0                  480332    CAR                  117848   \n",
              "1                  198235    CAR                   67766   \n",
              "2                   82785    CAR                   61609   \n",
              "3                  107589    CAR                   78189   \n",
              "4                  189322    CAR                   94625   \n",
              "\n",
              "  Main Source of Income  Agricultural Household indicator  \\\n",
              "0         Wage/Salaries                                 0   \n",
              "1         Wage/Salaries                                 0   \n",
              "2         Wage/Salaries                                 1   \n",
              "3         Wage/Salaries                                 0   \n",
              "4         Wage/Salaries                                 0   \n",
              "\n",
              "   Bread and Cereals Expenditure  Total Rice Expenditure  Meat Expenditure  \\\n",
              "0                          42140                   38300             24676   \n",
              "1                          17329                   13008             17434   \n",
              "2                          34182                   32001              7783   \n",
              "3                          34030                   28659             10914   \n",
              "4                          34820                   30167             18391   \n",
              "\n",
              "   Total Fish and  marine products Expenditure  Fruit Expenditure  ...  \\\n",
              "0                                        16806               3325  ...   \n",
              "1                                        11073               2035  ...   \n",
              "2                                         2590               1730  ...   \n",
              "3                                        10812                690  ...   \n",
              "4                                        11309               1395  ...   \n",
              "\n",
              "   Number of Refrigerator/Freezer  Number of Washing Machine  \\\n",
              "0                               1                          1   \n",
              "1                               0                          1   \n",
              "2                               0                          0   \n",
              "3                               0                          0   \n",
              "4                               1                          0   \n",
              "\n",
              "   Number of Airconditioner  Number of Car, Jeep, Van  \\\n",
              "0                         0                         0   \n",
              "1                         0                         0   \n",
              "2                         0                         0   \n",
              "3                         0                         0   \n",
              "4                         0                         0   \n",
              "\n",
              "   Number of Landline/wireless telephones  Number of Cellular phone  \\\n",
              "0                                       0                         2   \n",
              "1                                       0                         3   \n",
              "2                                       0                         0   \n",
              "3                                       0                         1   \n",
              "4                                       0                         3   \n",
              "\n",
              "   Number of Personal Computer  Number of Stove with Oven/Gas Range  \\\n",
              "0                            1                                    0   \n",
              "1                            1                                    0   \n",
              "2                            0                                    0   \n",
              "3                            0                                    0   \n",
              "4                            0                                    0   \n",
              "\n",
              "   Number of Motorized Banca  Number of Motorcycle/Tricycle  \n",
              "0                          0                              1  \n",
              "1                          0                              2  \n",
              "2                          0                              0  \n",
              "3                          0                              0  \n",
              "4                          0                              1  \n",
              "\n",
              "[5 rows x 60 columns]"
            ]
          },
          "execution_count": 107,
          "metadata": {},
          "output_type": "execute_result"
        }
      ],
      "source": [
        "df.head()"
      ]
    },
    {
      "cell_type": "code",
      "execution_count": null,
      "metadata": {
        "id": "X4c13GWRYYUu"
      },
      "outputs": [],
      "source": [
        "from sklearn.model_selection import train_test_split as tts"
      ]
    },
    {
      "cell_type": "code",
      "execution_count": null,
      "metadata": {
        "id": "fQQ9mqBiC6Id"
      },
      "outputs": [],
      "source": [
        "df_filtrado = df.filter(items = df.describe().columns)"
      ]
    },
    {
      "cell_type": "code",
      "execution_count": null,
      "metadata": {
        "id": "0cTmjfquYYfd"
      },
      "outputs": [],
      "source": [
        "df_treino, df_teste  = tts(df_filtrado, train_size=0.7, random_state=101)\n"
      ]
    },
    {
      "cell_type": "code",
      "execution_count": null,
      "metadata": {
        "id": "BztNh_gOYZJZ",
        "outputId": "75b79854-c960-4737-db63-7a84cfccd849"
      },
      "outputs": [
        {
          "data": {
            "text/plain": [
              "(60, 45)"
            ]
          },
          "execution_count": 98,
          "metadata": {},
          "output_type": "execute_result"
        }
      ],
      "source": [
        "len(df.columns), len(df.describe().columns)"
      ]
    },
    {
      "cell_type": "code",
      "execution_count": null,
      "metadata": {
        "id": "lV5EAIRvYZdd"
      },
      "outputs": [],
      "source": [
        "from sklearn.linear_model import LinearRegression"
      ]
    },
    {
      "cell_type": "code",
      "execution_count": null,
      "metadata": {
        "id": "2XQ97rOYC6If",
        "outputId": "f0a4a4c6-3708-4aab-9d04-07008e1ca6ac"
      },
      "outputs": [
        {
          "data": {
            "text/html": [
              "<div>\n",
              "<style scoped>\n",
              "    .dataframe tbody tr th:only-of-type {\n",
              "        vertical-align: middle;\n",
              "    }\n",
              "\n",
              "    .dataframe tbody tr th {\n",
              "        vertical-align: top;\n",
              "    }\n",
              "\n",
              "    .dataframe thead th {\n",
              "        text-align: right;\n",
              "    }\n",
              "</style>\n",
              "<table border=\"1\" class=\"dataframe\">\n",
              "  <thead>\n",
              "    <tr style=\"text-align: right;\">\n",
              "      <th></th>\n",
              "      <th>Total Household Income</th>\n",
              "      <th>Total Food Expenditure</th>\n",
              "      <th>Agricultural Household indicator</th>\n",
              "      <th>Bread and Cereals Expenditure</th>\n",
              "      <th>Total Rice Expenditure</th>\n",
              "      <th>Meat Expenditure</th>\n",
              "      <th>Total Fish and  marine products Expenditure</th>\n",
              "      <th>Fruit Expenditure</th>\n",
              "      <th>Vegetables Expenditure</th>\n",
              "      <th>Restaurant and hotels Expenditure</th>\n",
              "      <th>...</th>\n",
              "      <th>Number of Refrigerator/Freezer</th>\n",
              "      <th>Number of Washing Machine</th>\n",
              "      <th>Number of Airconditioner</th>\n",
              "      <th>Number of Car, Jeep, Van</th>\n",
              "      <th>Number of Landline/wireless telephones</th>\n",
              "      <th>Number of Cellular phone</th>\n",
              "      <th>Number of Personal Computer</th>\n",
              "      <th>Number of Stove with Oven/Gas Range</th>\n",
              "      <th>Number of Motorized Banca</th>\n",
              "      <th>Number of Motorcycle/Tricycle</th>\n",
              "    </tr>\n",
              "  </thead>\n",
              "  <tbody>\n",
              "    <tr>\n",
              "      <th>15643</th>\n",
              "      <td>144825</td>\n",
              "      <td>110425</td>\n",
              "      <td>0</td>\n",
              "      <td>26533</td>\n",
              "      <td>23640</td>\n",
              "      <td>18270</td>\n",
              "      <td>20862</td>\n",
              "      <td>1370</td>\n",
              "      <td>8383</td>\n",
              "      <td>19150</td>\n",
              "      <td>...</td>\n",
              "      <td>0</td>\n",
              "      <td>0</td>\n",
              "      <td>0</td>\n",
              "      <td>0</td>\n",
              "      <td>0</td>\n",
              "      <td>2</td>\n",
              "      <td>0</td>\n",
              "      <td>0</td>\n",
              "      <td>0</td>\n",
              "      <td>1</td>\n",
              "    </tr>\n",
              "    <tr>\n",
              "      <th>26790</th>\n",
              "      <td>158025</td>\n",
              "      <td>66763</td>\n",
              "      <td>1</td>\n",
              "      <td>31946</td>\n",
              "      <td>24385</td>\n",
              "      <td>3875</td>\n",
              "      <td>20611</td>\n",
              "      <td>650</td>\n",
              "      <td>3320</td>\n",
              "      <td>2414</td>\n",
              "      <td>...</td>\n",
              "      <td>0</td>\n",
              "      <td>0</td>\n",
              "      <td>0</td>\n",
              "      <td>0</td>\n",
              "      <td>0</td>\n",
              "      <td>0</td>\n",
              "      <td>0</td>\n",
              "      <td>0</td>\n",
              "      <td>0</td>\n",
              "      <td>0</td>\n",
              "    </tr>\n",
              "    <tr>\n",
              "      <th>12007</th>\n",
              "      <td>133904</td>\n",
              "      <td>38530</td>\n",
              "      <td>0</td>\n",
              "      <td>12386</td>\n",
              "      <td>9984</td>\n",
              "      <td>7280</td>\n",
              "      <td>3820</td>\n",
              "      <td>2750</td>\n",
              "      <td>3471</td>\n",
              "      <td>1300</td>\n",
              "      <td>...</td>\n",
              "      <td>1</td>\n",
              "      <td>0</td>\n",
              "      <td>0</td>\n",
              "      <td>0</td>\n",
              "      <td>0</td>\n",
              "      <td>1</td>\n",
              "      <td>0</td>\n",
              "      <td>0</td>\n",
              "      <td>0</td>\n",
              "      <td>0</td>\n",
              "    </tr>\n",
              "    <tr>\n",
              "      <th>1769</th>\n",
              "      <td>181893</td>\n",
              "      <td>99592</td>\n",
              "      <td>0</td>\n",
              "      <td>14529</td>\n",
              "      <td>10018</td>\n",
              "      <td>12150</td>\n",
              "      <td>9432</td>\n",
              "      <td>2170</td>\n",
              "      <td>3555</td>\n",
              "      <td>20880</td>\n",
              "      <td>...</td>\n",
              "      <td>1</td>\n",
              "      <td>1</td>\n",
              "      <td>0</td>\n",
              "      <td>0</td>\n",
              "      <td>0</td>\n",
              "      <td>2</td>\n",
              "      <td>0</td>\n",
              "      <td>0</td>\n",
              "      <td>0</td>\n",
              "      <td>0</td>\n",
              "    </tr>\n",
              "    <tr>\n",
              "      <th>36952</th>\n",
              "      <td>401004</td>\n",
              "      <td>182676</td>\n",
              "      <td>2</td>\n",
              "      <td>33753</td>\n",
              "      <td>22880</td>\n",
              "      <td>33838</td>\n",
              "      <td>13608</td>\n",
              "      <td>3207</td>\n",
              "      <td>10927</td>\n",
              "      <td>36950</td>\n",
              "      <td>...</td>\n",
              "      <td>1</td>\n",
              "      <td>1</td>\n",
              "      <td>0</td>\n",
              "      <td>0</td>\n",
              "      <td>0</td>\n",
              "      <td>5</td>\n",
              "      <td>1</td>\n",
              "      <td>0</td>\n",
              "      <td>0</td>\n",
              "      <td>0</td>\n",
              "    </tr>\n",
              "  </tbody>\n",
              "</table>\n",
              "<p>5 rows × 45 columns</p>\n",
              "</div>"
            ],
            "text/plain": [
              "       Total Household Income  Total Food Expenditure  \\\n",
              "15643                  144825                  110425   \n",
              "26790                  158025                   66763   \n",
              "12007                  133904                   38530   \n",
              "1769                   181893                   99592   \n",
              "36952                  401004                  182676   \n",
              "\n",
              "       Agricultural Household indicator  Bread and Cereals Expenditure  \\\n",
              "15643                                 0                          26533   \n",
              "26790                                 1                          31946   \n",
              "12007                                 0                          12386   \n",
              "1769                                  0                          14529   \n",
              "36952                                 2                          33753   \n",
              "\n",
              "       Total Rice Expenditure  Meat Expenditure  \\\n",
              "15643                   23640             18270   \n",
              "26790                   24385              3875   \n",
              "12007                    9984              7280   \n",
              "1769                    10018             12150   \n",
              "36952                   22880             33838   \n",
              "\n",
              "       Total Fish and  marine products Expenditure  Fruit Expenditure  \\\n",
              "15643                                        20862               1370   \n",
              "26790                                        20611                650   \n",
              "12007                                         3820               2750   \n",
              "1769                                          9432               2170   \n",
              "36952                                        13608               3207   \n",
              "\n",
              "       Vegetables Expenditure  Restaurant and hotels Expenditure  ...  \\\n",
              "15643                    8383                              19150  ...   \n",
              "26790                    3320                               2414  ...   \n",
              "12007                    3471                               1300  ...   \n",
              "1769                     3555                              20880  ...   \n",
              "36952                   10927                              36950  ...   \n",
              "\n",
              "       Number of Refrigerator/Freezer  Number of Washing Machine  \\\n",
              "15643                               0                          0   \n",
              "26790                               0                          0   \n",
              "12007                               1                          0   \n",
              "1769                                1                          1   \n",
              "36952                               1                          1   \n",
              "\n",
              "       Number of Airconditioner  Number of Car, Jeep, Van  \\\n",
              "15643                         0                         0   \n",
              "26790                         0                         0   \n",
              "12007                         0                         0   \n",
              "1769                          0                         0   \n",
              "36952                         0                         0   \n",
              "\n",
              "       Number of Landline/wireless telephones  Number of Cellular phone  \\\n",
              "15643                                       0                         2   \n",
              "26790                                       0                         0   \n",
              "12007                                       0                         1   \n",
              "1769                                        0                         2   \n",
              "36952                                       0                         5   \n",
              "\n",
              "       Number of Personal Computer  Number of Stove with Oven/Gas Range  \\\n",
              "15643                            0                                    0   \n",
              "26790                            0                                    0   \n",
              "12007                            0                                    0   \n",
              "1769                             0                                    0   \n",
              "36952                            1                                    0   \n",
              "\n",
              "       Number of Motorized Banca  Number of Motorcycle/Tricycle  \n",
              "15643                          0                              1  \n",
              "26790                          0                              0  \n",
              "12007                          0                              0  \n",
              "1769                           0                              0  \n",
              "36952                          0                              0  \n",
              "\n",
              "[5 rows x 45 columns]"
            ]
          },
          "execution_count": 113,
          "metadata": {},
          "output_type": "execute_result"
        }
      ],
      "source": [
        "X1 = df_treino.drop(columns = 'Total Household Income')\n",
        "y1 = df_treino['Total Household Income']\n",
        "df_treino.head()"
      ]
    },
    {
      "cell_type": "code",
      "execution_count": null,
      "metadata": {
        "id": "PmJzCbjuYZqc"
      },
      "outputs": [],
      "source": [
        "lr1 = LinearRegression().fit(X1, y1)"
      ]
    },
    {
      "cell_type": "code",
      "execution_count": null,
      "metadata": {
        "id": "_bZSWWElC6If",
        "outputId": "6e4aa6ac-13c7-43de-d632-2d34f48d1d8e"
      },
      "outputs": [
        {
          "data": {
            "text/plain": [
              "0.811611090277363"
            ]
          },
          "execution_count": 115,
          "metadata": {},
          "output_type": "execute_result"
        }
      ],
      "source": [
        "lr1.score(X1, y1)"
      ]
    },
    {
      "cell_type": "code",
      "execution_count": null,
      "metadata": {
        "id": "Ch9E-ee_C6Ig",
        "outputId": "0a58a2d1-014c-4eb5-e943-c1a8546bce5b"
      },
      "outputs": [
        {
          "data": {
            "text/plain": [
              "0.8636915248608075"
            ]
          },
          "execution_count": 116,
          "metadata": {},
          "output_type": "execute_result"
        }
      ],
      "source": [
        "X1t = df_teste.drop(columns = 'Total Household Income')\n",
        "y1t = df_teste['Total Household Income']\n",
        "\n",
        "lr1.score(X1t,y1t)"
      ]
    },
    {
      "cell_type": "code",
      "execution_count": null,
      "metadata": {
        "id": "SWXnLnEDC6Ig"
      },
      "outputs": [],
      "source": [
        "y_pred1 = lr1.predict(X1t)"
      ]
    },
    {
      "cell_type": "code",
      "execution_count": null,
      "metadata": {
        "id": "0TbhgITAC6Ig",
        "outputId": "890b85ce-c768-46a9-af7a-6dd0aa66d923"
      },
      "outputs": [
        {
          "data": {
            "image/png": "[encoded data removed]",
            "text/plain": [
              "<Figure size 504x504 with 1 Axes>"
            ]
          },
          "metadata": {},
          "output_type": "display_data"
        }
      ],
      "source": [
        "plt.figure(figsize=(7, 7))\n",
        "plt.scatter(y1t, y_pred1);"
      ]
    },
    {
      "cell_type": "code",
      "execution_count": null,
      "metadata": {
        "id": "ufiDN7A0C6Ih"
      },
      "outputs": [],
      "source": [
        "residuos1 = y1t - y_pred1"
      ]
    },
    {
      "cell_type": "code",
      "execution_count": null,
      "metadata": {
        "id": "JuXIBLFTC6Ih",
        "outputId": "207a428a-d7ad-4614-cc63-b5705a217dd1"
      },
      "outputs": [
        {
          "data": {
            "text/plain": [
              "[<matplotlib.lines.Line2D at 0x1e73ef264f0>]"
            ]
          },
          "execution_count": 145,
          "metadata": {},
          "output_type": "execute_result"
        },
        {
          "data": {
            "image/png": "[encoded data removed]",
            "text/plain": [
              "<Figure size 1008x432 with 1 Axes>"
            ]
          },
          "metadata": {},
          "output_type": "display_data"
        }
      ],
      "source": [
        "plt.figure(figsize=(14, 6))\n",
        "plt.scatter(y1t, residuos1);\n",
        "plt.plot(y1t, [273]*y1t.shape[0],color='red')"
      ]
    },
    {
      "cell_type": "code",
      "execution_count": null,
      "metadata": {
        "id": "i-xU-e_cC6Ii",
        "outputId": "f7b7fcf4-ae68-4e63-d366-17daf0bc9cf3"
      },
      "outputs": [
        {
          "data": {
            "text/plain": [
              "273.79648361090784"
            ]
          },
          "execution_count": 125,
          "metadata": {},
          "output_type": "execute_result"
        }
      ],
      "source": [
        "residuos1.mean()"
      ]
    },
    {
      "cell_type": "code",
      "execution_count": null,
      "metadata": {
        "id": "5_z9rWuBC6Ii",
        "outputId": "2d3c2c25-5100-412a-84b7-235869893506"
      },
      "outputs": [
        {
          "data": {
            "text/plain": [
              "<AxesSubplot:>"
            ]
          },
          "execution_count": 126,
          "metadata": {},
          "output_type": "execute_result"
        },
        {
          "data": {
            "image/png": "[encoded data removed]",
            "text/plain": [
              "<Figure size 432x288 with 1 Axes>"
            ]
          },
          "metadata": {
            "needs_background": "light"
          },
          "output_type": "display_data"
        }
      ],
      "source": [
        "df.boxplot()"
      ]
    },
    {
      "cell_type": "code",
      "execution_count": null,
      "metadata": {
        "id": "y48feuKCC6Ij"
      },
      "outputs": [],
      "source": [
        "from scipy.stats import normaltest"
      ]
    },
    {
      "cell_type": "code",
      "execution_count": null,
      "metadata": {
        "id": "NwK215iRC6Ij",
        "outputId": "c2ced906-9fde-48c6-afe4-3b921bf87996"
      },
      "outputs": [
        {
          "data": {
            "text/plain": [
              "0.0"
            ]
          },
          "execution_count": 142,
          "metadata": {},
          "output_type": "execute_result"
        }
      ],
      "source": [
        "z,p = normaltest(residuos1)\n",
        "p"
      ]
    },
    {
      "cell_type": "code",
      "execution_count": null,
      "metadata": {
        "id": "9teVRE8vC6Ik"
      },
      "outputs": [],
      "source": [
        "sns.set()"
      ]
    },
    {
      "cell_type": "code",
      "execution_count": null,
      "metadata": {
        "id": "-aSBO60BC6Ik",
        "outputId": "a98176f6-c61a-494f-976a-6103db73cc44"
      },
      "outputs": [
        {
          "data": {
            "text/plain": [
              "<AxesSubplot:xlabel='Total Household Income', ylabel='Count'>"
            ]
          },
          "execution_count": 147,
          "metadata": {},
          "output_type": "execute_result"
        },
        {
          "data": {
            "image/png": "[encoded data removed]",
            "text/plain": [
              "<Figure size 432x288 with 1 Axes>"
            ]
          },
          "metadata": {},
          "output_type": "display_data"
        }
      ],
      "source": [
        "sns.histplot(residuos1, kde=True)"
      ]
    },
    {
      "cell_type": "code",
      "execution_count": null,
      "metadata": {
        "id": "NcK9lGWhC6Il"
      },
      "outputs": [],
      "source": [
        "import statsmodels.api as sm"
      ]
    },
    {
      "cell_type": "code",
      "execution_count": null,
      "metadata": {
        "id": "twsx4UO-C6Il",
        "outputId": "9e918754-c96e-4ea4-da71-a5c6b37726a4"
      },
      "outputs": [
        {
          "data": {
            "text/html": [
              "<table class=\"simpletable\">\n",
              "<caption>OLS Regression Results</caption>\n",
              "<tr>\n",
              "  <th>Dep. Variable:</th>    <td>Total Household Income</td> <th>  R-squared:         </th>  <td>   0.812</td>  \n",
              "</tr>\n",
              "<tr>\n",
              "  <th>Model:</th>                      <td>OLS</td>          <th>  Adj. R-squared:    </th>  <td>   0.811</td>  \n",
              "</tr>\n",
              "<tr>\n",
              "  <th>Method:</th>                <td>Least Squares</td>     <th>  F-statistic:       </th>  <td>   2843.</td>  \n",
              "</tr>\n",
              "<tr>\n",
              "  <th>Date:</th>                <td>Mon, 20 Dec 2021</td>    <th>  Prob (F-statistic):</th>   <td>  0.00</td>   \n",
              "</tr>\n",
              "<tr>\n",
              "  <th>Time:</th>                    <td>21:00:16</td>        <th>  Log-Likelihood:    </th> <td>-3.8263e+05</td>\n",
              "</tr>\n",
              "<tr>\n",
              "  <th>No. Observations:</th>         <td> 29080</td>         <th>  AIC:               </th>  <td>7.653e+05</td> \n",
              "</tr>\n",
              "<tr>\n",
              "  <th>Df Residuals:</th>             <td> 29035</td>         <th>  BIC:               </th>  <td>7.657e+05</td> \n",
              "</tr>\n",
              "<tr>\n",
              "  <th>Df Model:</th>                 <td>    44</td>         <th>                     </th>      <td> </td>     \n",
              "</tr>\n",
              "<tr>\n",
              "  <th>Covariance Type:</th>         <td>nonrobust</td>       <th>                     </th>      <td> </td>     \n",
              "</tr>\n",
              "</table>\n",
              "<table class=\"simpletable\">\n",
              "<tr>\n",
              "                        <td></td>                           <th>coef</th>     <th>std err</th>      <th>t</th>      <th>P>|t|</th>  <th>[0.025</th>    <th>0.975]</th>  \n",
              "</tr>\n",
              "<tr>\n",
              "  <th>const</th>                                         <td> -3.27e+04</td> <td> 4169.757</td> <td>   -7.842</td> <td> 0.000</td> <td>-4.09e+04</td> <td>-2.45e+04</td>\n",
              "</tr>\n",
              "<tr>\n",
              "  <th>Total Food Expenditure</th>                        <td>    0.5523</td> <td>    0.076</td> <td>    7.253</td> <td> 0.000</td> <td>    0.403</td> <td>    0.702</td>\n",
              "</tr>\n",
              "<tr>\n",
              "  <th>Agricultural Household indicator</th>              <td>-5008.2987</td> <td> 1161.326</td> <td>   -4.313</td> <td> 0.000</td> <td>-7284.550</td> <td>-2732.047</td>\n",
              "</tr>\n",
              "<tr>\n",
              "  <th>Bread and Cereals Expenditure</th>                 <td>   -0.1847</td> <td>    0.159</td> <td>   -1.165</td> <td> 0.244</td> <td>   -0.495</td> <td>    0.126</td>\n",
              "</tr>\n",
              "<tr>\n",
              "  <th>Total Rice Expenditure</th>                        <td>   -0.1884</td> <td>    0.135</td> <td>   -1.399</td> <td> 0.162</td> <td>   -0.452</td> <td>    0.076</td>\n",
              "</tr>\n",
              "<tr>\n",
              "  <th>Meat Expenditure</th>                              <td>    0.1062</td> <td>    0.144</td> <td>    0.739</td> <td> 0.460</td> <td>   -0.175</td> <td>    0.388</td>\n",
              "</tr>\n",
              "<tr>\n",
              "  <th>Total Fish and  marine products Expenditure</th>   <td>    0.9752</td> <td>    0.146</td> <td>    6.671</td> <td> 0.000</td> <td>    0.689</td> <td>    1.262</td>\n",
              "</tr>\n",
              "<tr>\n",
              "  <th>Fruit Expenditure</th>                             <td>    0.0740</td> <td>    0.305</td> <td>    0.243</td> <td> 0.808</td> <td>   -0.524</td> <td>    0.672</td>\n",
              "</tr>\n",
              "<tr>\n",
              "  <th>Vegetables Expenditure</th>                        <td>   -0.9541</td> <td>    0.303</td> <td>   -3.147</td> <td> 0.002</td> <td>   -1.548</td> <td>   -0.360</td>\n",
              "</tr>\n",
              "<tr>\n",
              "  <th>Restaurant and hotels Expenditure</th>             <td>    0.1559</td> <td>    0.084</td> <td>    1.859</td> <td> 0.063</td> <td>   -0.008</td> <td>    0.320</td>\n",
              "</tr>\n",
              "<tr>\n",
              "  <th>Alcoholic Beverages Expenditure</th>               <td>    0.5293</td> <td>    0.357</td> <td>    1.482</td> <td> 0.138</td> <td>   -0.171</td> <td>    1.229</td>\n",
              "</tr>\n",
              "<tr>\n",
              "  <th>Tobacco Expenditure</th>                           <td>   -0.2773</td> <td>    0.195</td> <td>   -1.419</td> <td> 0.156</td> <td>   -0.660</td> <td>    0.106</td>\n",
              "</tr>\n",
              "<tr>\n",
              "  <th>Clothing, Footwear and Other Wear Expenditure</th> <td>    1.8215</td> <td>    0.137</td> <td>   13.298</td> <td> 0.000</td> <td>    1.553</td> <td>    2.090</td>\n",
              "</tr>\n",
              "<tr>\n",
              "  <th>Housing and water Expenditure</th>                 <td>    0.7770</td> <td>    0.044</td> <td>   17.519</td> <td> 0.000</td> <td>    0.690</td> <td>    0.864</td>\n",
              "</tr>\n",
              "<tr>\n",
              "  <th>Imputed House Rental Value</th>                    <td>    0.4035</td> <td>    0.051</td> <td>    7.876</td> <td> 0.000</td> <td>    0.303</td> <td>    0.504</td>\n",
              "</tr>\n",
              "<tr>\n",
              "  <th>Medical Care Expenditure</th>                      <td>    0.7728</td> <td>    0.028</td> <td>   27.324</td> <td> 0.000</td> <td>    0.717</td> <td>    0.828</td>\n",
              "</tr>\n",
              "<tr>\n",
              "  <th>Transportation Expenditure</th>                    <td>    1.0089</td> <td>    0.054</td> <td>   18.824</td> <td> 0.000</td> <td>    0.904</td> <td>    1.114</td>\n",
              "</tr>\n",
              "<tr>\n",
              "  <th>Communication Expenditure</th>                     <td>    4.8851</td> <td>    0.186</td> <td>   26.316</td> <td> 0.000</td> <td>    4.521</td> <td>    5.249</td>\n",
              "</tr>\n",
              "<tr>\n",
              "  <th>Education Expenditure</th>                         <td>    0.8927</td> <td>    0.039</td> <td>   22.840</td> <td> 0.000</td> <td>    0.816</td> <td>    0.969</td>\n",
              "</tr>\n",
              "<tr>\n",
              "  <th>Miscellaneous Goods and Services Expenditure</th>  <td>    2.7652</td> <td>    0.061</td> <td>   45.544</td> <td> 0.000</td> <td>    2.646</td> <td>    2.884</td>\n",
              "</tr>\n",
              "<tr>\n",
              "  <th>Special Occasions Expenditure</th>                 <td>    1.2021</td> <td>    0.061</td> <td>   19.720</td> <td> 0.000</td> <td>    1.083</td> <td>    1.322</td>\n",
              "</tr>\n",
              "<tr>\n",
              "  <th>Crop Farming and Gardening expenses</th>           <td>    0.0720</td> <td>    0.016</td> <td>    4.459</td> <td> 0.000</td> <td>    0.040</td> <td>    0.104</td>\n",
              "</tr>\n",
              "<tr>\n",
              "  <th>Total Income from Entrepreneurial Acitivites</th>  <td>    0.6746</td> <td>    0.006</td> <td>  115.495</td> <td> 0.000</td> <td>    0.663</td> <td>    0.686</td>\n",
              "</tr>\n",
              "<tr>\n",
              "  <th>Household Head Age</th>                            <td>  578.7761</td> <td>   60.649</td> <td>    9.543</td> <td> 0.000</td> <td>  459.901</td> <td>  697.651</td>\n",
              "</tr>\n",
              "<tr>\n",
              "  <th>Total Number of Family members</th>                <td>-4786.3716</td> <td>  756.704</td> <td>   -6.325</td> <td> 0.000</td> <td>-6269.546</td> <td>-3303.197</td>\n",
              "</tr>\n",
              "<tr>\n",
              "  <th>Members with age less than 5 year old</th>         <td> 9255.3921</td> <td> 1477.901</td> <td>    6.263</td> <td> 0.000</td> <td> 6358.638</td> <td> 1.22e+04</td>\n",
              "</tr>\n",
              "<tr>\n",
              "  <th>Members with age 5 - 17 years old</th>             <td> 1437.0612</td> <td>  890.693</td> <td>    1.613</td> <td> 0.107</td> <td> -308.738</td> <td> 3182.861</td>\n",
              "</tr>\n",
              "<tr>\n",
              "  <th>Total number of family members employed</th>       <td> 2.793e+04</td> <td>  816.918</td> <td>   34.191</td> <td> 0.000</td> <td> 2.63e+04</td> <td> 2.95e+04</td>\n",
              "</tr>\n",
              "<tr>\n",
              "  <th>House Floor Area</th>                              <td>   30.9576</td> <td>   15.457</td> <td>    2.003</td> <td> 0.045</td> <td>    0.661</td> <td>   61.255</td>\n",
              "</tr>\n",
              "<tr>\n",
              "  <th>House Age</th>                                     <td>  -72.5534</td> <td>   54.863</td> <td>   -1.322</td> <td> 0.186</td> <td> -180.087</td> <td>   34.980</td>\n",
              "</tr>\n",
              "<tr>\n",
              "  <th>Number of bedrooms</th>                            <td> 3735.4199</td> <td>  832.081</td> <td>    4.489</td> <td> 0.000</td> <td> 2104.504</td> <td> 5366.336</td>\n",
              "</tr>\n",
              "<tr>\n",
              "  <th>Electricity</th>                                   <td>-4017.9801</td> <td> 2719.378</td> <td>   -1.478</td> <td> 0.140</td> <td>-9348.085</td> <td> 1312.124</td>\n",
              "</tr>\n",
              "<tr>\n",
              "  <th>Number of Television</th>                          <td> 2900.1982</td> <td> 1620.336</td> <td>    1.790</td> <td> 0.073</td> <td> -275.734</td> <td> 6076.130</td>\n",
              "</tr>\n",
              "<tr>\n",
              "  <th>Number of CD/VCD/DVD</th>                          <td>-2111.2370</td> <td> 1601.925</td> <td>   -1.318</td> <td> 0.188</td> <td>-5251.084</td> <td> 1028.610</td>\n",
              "</tr>\n",
              "<tr>\n",
              "  <th>Number of Component/Stereo set</th>                <td>-2579.2164</td> <td> 2181.366</td> <td>   -1.182</td> <td> 0.237</td> <td>-6854.793</td> <td> 1696.361</td>\n",
              "</tr>\n",
              "<tr>\n",
              "  <th>Number of Refrigerator/Freezer</th>                <td> 2818.0817</td> <td> 1879.950</td> <td>    1.499</td> <td> 0.134</td> <td> -866.706</td> <td> 6502.869</td>\n",
              "</tr>\n",
              "<tr>\n",
              "  <th>Number of Washing Machine</th>                     <td>-1828.1560</td> <td> 2025.641</td> <td>   -0.903</td> <td> 0.367</td> <td>-5798.505</td> <td> 2142.193</td>\n",
              "</tr>\n",
              "<tr>\n",
              "  <th>Number of Airconditioner</th>                      <td> 2.222e+04</td> <td> 2291.069</td> <td>    9.697</td> <td> 0.000</td> <td> 1.77e+04</td> <td> 2.67e+04</td>\n",
              "</tr>\n",
              "<tr>\n",
              "  <th>Number of Car, Jeep, Van</th>                      <td> 1.966e+04</td> <td> 2879.560</td> <td>    6.828</td> <td> 0.000</td> <td>  1.4e+04</td> <td> 2.53e+04</td>\n",
              "</tr>\n",
              "<tr>\n",
              "  <th>Number of Landline/wireless telephones</th>        <td>-1.395e+04</td> <td> 3131.768</td> <td>   -4.453</td> <td> 0.000</td> <td>-2.01e+04</td> <td>-7807.574</td>\n",
              "</tr>\n",
              "<tr>\n",
              "  <th>Number of Cellular phone</th>                      <td>  388.4341</td> <td>  704.915</td> <td>    0.551</td> <td> 0.582</td> <td> -993.231</td> <td> 1770.099</td>\n",
              "</tr>\n",
              "<tr>\n",
              "  <th>Number of Personal Computer</th>                   <td> 1.119e+04</td> <td> 1408.437</td> <td>    7.947</td> <td> 0.000</td> <td> 8431.727</td> <td>  1.4e+04</td>\n",
              "</tr>\n",
              "<tr>\n",
              "  <th>Number of Stove with Oven/Gas Range</th>           <td> 1.278e+04</td> <td> 2422.732</td> <td>    5.274</td> <td> 0.000</td> <td> 8028.889</td> <td> 1.75e+04</td>\n",
              "</tr>\n",
              "<tr>\n",
              "  <th>Number of Motorized Banca</th>                     <td>-7256.5114</td> <td> 5777.790</td> <td>   -1.256</td> <td> 0.209</td> <td>-1.86e+04</td> <td> 4068.221</td>\n",
              "</tr>\n",
              "<tr>\n",
              "  <th>Number of Motorcycle/Tricycle</th>                 <td> 2725.5867</td> <td> 1471.886</td> <td>    1.852</td> <td> 0.064</td> <td> -159.377</td> <td> 5610.550</td>\n",
              "</tr>\n",
              "</table>\n",
              "<table class=\"simpletable\">\n",
              "<tr>\n",
              "  <th>Omnibus:</th>       <td>74561.231</td> <th>  Durbin-Watson:     </th>    <td>   1.989</td>   \n",
              "</tr>\n",
              "<tr>\n",
              "  <th>Prob(Omnibus):</th>  <td> 0.000</td>   <th>  Jarque-Bera (JB):  </th> <td>4923472186.882</td>\n",
              "</tr>\n",
              "<tr>\n",
              "  <th>Skew:</th>           <td>28.547</td>   <th>  Prob(JB):          </th>    <td>    0.00</td>   \n",
              "</tr>\n",
              "<tr>\n",
              "  <th>Kurtosis:</th>      <td>2017.976</td>  <th>  Cond. No.          </th>    <td>1.37e+06</td>   \n",
              "</tr>\n",
              "</table><br/><br/>Notes:<br/>[1] Standard Errors assume that the covariance matrix of the errors is correctly specified.<br/>[2] The condition number is large, 1.37e+06. This might indicate that there are<br/>strong multicollinearity or other numerical problems."
            ],
            "text/plain": [
              "<class 'statsmodels.iolib.summary.Summary'>\n",
              "\"\"\"\n",
              "                              OLS Regression Results                              \n",
              "==================================================================================\n",
              "Dep. Variable:     Total Household Income   R-squared:                       0.812\n",
              "Model:                                OLS   Adj. R-squared:                  0.811\n",
              "Method:                     Least Squares   F-statistic:                     2843.\n",
              "Date:                    Mon, 20 Dec 2021   Prob (F-statistic):               0.00\n",
              "Time:                            21:00:16   Log-Likelihood:            -3.8263e+05\n",
              "No. Observations:                   29080   AIC:                         7.653e+05\n",
              "Df Residuals:                       29035   BIC:                         7.657e+05\n",
              "Df Model:                              44                                         \n",
              "Covariance Type:                nonrobust                                         \n",
              "=================================================================================================================\n",
              "                                                    coef    std err          t      P>|t|      [0.025      0.975]\n",
              "-----------------------------------------------------------------------------------------------------------------\n",
              "const                                          -3.27e+04   4169.757     -7.842      0.000   -4.09e+04   -2.45e+04\n",
              "Total Food Expenditure                            0.5523      0.076      7.253      0.000       0.403       0.702\n",
              "Agricultural Household indicator              -5008.2987   1161.326     -4.313      0.000   -7284.550   -2732.047\n",
              "Bread and Cereals Expenditure                    -0.1847      0.159     -1.165      0.244      -0.495       0.126\n",
              "Total Rice Expenditure                           -0.1884      0.135     -1.399      0.162      -0.452       0.076\n",
              "Meat Expenditure                                  0.1062      0.144      0.739      0.460      -0.175       0.388\n",
              "Total Fish and  marine products Expenditure       0.9752      0.146      6.671      0.000       0.689       1.262\n",
              "Fruit Expenditure                                 0.0740      0.305      0.243      0.808      -0.524       0.672\n",
              "Vegetables Expenditure                           -0.9541      0.303     -3.147      0.002      -1.548      -0.360\n",
              "Restaurant and hotels Expenditure                 0.1559      0.084      1.859      0.063      -0.008       0.320\n",
              "Alcoholic Beverages Expenditure                   0.5293      0.357      1.482      0.138      -0.171       1.229\n",
              "Tobacco Expenditure                              -0.2773      0.195     -1.419      0.156      -0.660       0.106\n",
              "Clothing, Footwear and Other Wear Expenditure     1.8215      0.137     13.298      0.000       1.553       2.090\n",
              "Housing and water Expenditure                     0.7770      0.044     17.519      0.000       0.690       0.864\n",
              "Imputed House Rental Value                        0.4035      0.051      7.876      0.000       0.303       0.504\n",
              "Medical Care Expenditure                          0.7728      0.028     27.324      0.000       0.717       0.828\n",
              "Transportation Expenditure                        1.0089      0.054     18.824      0.000       0.904       1.114\n",
              "Communication Expenditure                         4.8851      0.186     26.316      0.000       4.521       5.249\n",
              "Education Expenditure                             0.8927      0.039     22.840      0.000       0.816       0.969\n",
              "Miscellaneous Goods and Services Expenditure      2.7652      0.061     45.544      0.000       2.646       2.884\n",
              "Special Occasions Expenditure                     1.2021      0.061     19.720      0.000       1.083       1.322\n",
              "Crop Farming and Gardening expenses               0.0720      0.016      4.459      0.000       0.040       0.104\n",
              "Total Income from Entrepreneurial Acitivites      0.6746      0.006    115.495      0.000       0.663       0.686\n",
              "Household Head Age                              578.7761     60.649      9.543      0.000     459.901     697.651\n",
              "Total Number of Family members                -4786.3716    756.704     -6.325      0.000   -6269.546   -3303.197\n",
              "Members with age less than 5 year old          9255.3921   1477.901      6.263      0.000    6358.638    1.22e+04\n",
              "Members with age 5 - 17 years old              1437.0612    890.693      1.613      0.107    -308.738    3182.861\n",
              "Total number of family members employed        2.793e+04    816.918     34.191      0.000    2.63e+04    2.95e+04\n",
              "House Floor Area                                 30.9576     15.457      2.003      0.045       0.661      61.255\n",
              "House Age                                       -72.5534     54.863     -1.322      0.186    -180.087      34.980\n",
              "Number of bedrooms                             3735.4199    832.081      4.489      0.000    2104.504    5366.336\n",
              "Electricity                                   -4017.9801   2719.378     -1.478      0.140   -9348.085    1312.124\n",
              "Number of Television                           2900.1982   1620.336      1.790      0.073    -275.734    6076.130\n",
              "Number of CD/VCD/DVD                          -2111.2370   1601.925     -1.318      0.188   -5251.084    1028.610\n",
              "Number of Component/Stereo set                -2579.2164   2181.366     -1.182      0.237   -6854.793    1696.361\n",
              "Number of Refrigerator/Freezer                 2818.0817   1879.950      1.499      0.134    -866.706    6502.869\n",
              "Number of Washing Machine                     -1828.1560   2025.641     -0.903      0.367   -5798.505    2142.193\n",
              "Number of Airconditioner                       2.222e+04   2291.069      9.697      0.000    1.77e+04    2.67e+04\n",
              "Number of Car, Jeep, Van                       1.966e+04   2879.560      6.828      0.000     1.4e+04    2.53e+04\n",
              "Number of Landline/wireless telephones        -1.395e+04   3131.768     -4.453      0.000   -2.01e+04   -7807.574\n",
              "Number of Cellular phone                        388.4341    704.915      0.551      0.582    -993.231    1770.099\n",
              "Number of Personal Computer                    1.119e+04   1408.437      7.947      0.000    8431.727     1.4e+04\n",
              "Number of Stove with Oven/Gas Range            1.278e+04   2422.732      5.274      0.000    8028.889    1.75e+04\n",
              "Number of Motorized Banca                     -7256.5114   5777.790     -1.256      0.209   -1.86e+04    4068.221\n",
              "Number of Motorcycle/Tricycle                  2725.5867   1471.886      1.852      0.064    -159.377    5610.550\n",
              "==============================================================================\n",
              "Omnibus:                    74561.231   Durbin-Watson:                   1.989\n",
              "Prob(Omnibus):                  0.000   Jarque-Bera (JB):       4923472186.882\n",
              "Skew:                          28.547   Prob(JB):                         0.00\n",
              "Kurtosis:                    2017.976   Cond. No.                     1.37e+06\n",
              "==============================================================================\n",
              "\n",
              "Notes:\n",
              "[1] Standard Errors assume that the covariance matrix of the errors is correctly specified.\n",
              "[2] The condition number is large, 1.37e+06. This might indicate that there are\n",
              "strong multicollinearity or other numerical problems.\n",
              "\"\"\""
            ]
          },
          "execution_count": 149,
          "metadata": {},
          "output_type": "execute_result"
        }
      ],
      "source": [
        "x1 = sm.add_constant(X1)\n",
        "modelo_inicial = sm.OLS(y1, x1).fit()\n",
        "\n",
        "modelo_inicial.summary()"
      ]
    },
    {
      "cell_type": "code",
      "execution_count": null,
      "metadata": {
        "id": "Tw4gF6EKC6Im",
        "outputId": "84c928b6-b616-4e10-e9fc-cc79772253a7"
      },
      "outputs": [
        {
          "data": {
            "text/html": [
              "<table class=\"simpletable\">\n",
              "<caption>OLS Regression Results</caption>\n",
              "<tr>\n",
              "  <th>Dep. Variable:</th>    <td>Total Household Income</td> <th>  R-squared:         </th>  <td>   0.869</td>  \n",
              "</tr>\n",
              "<tr>\n",
              "  <th>Model:</th>                      <td>OLS</td>          <th>  Adj. R-squared:    </th>  <td>   0.869</td>  \n",
              "</tr>\n",
              "<tr>\n",
              "  <th>Method:</th>                <td>Least Squares</td>     <th>  F-statistic:       </th>  <td>   1878.</td>  \n",
              "</tr>\n",
              "<tr>\n",
              "  <th>Date:</th>                <td>Mon, 20 Dec 2021</td>    <th>  Prob (F-statistic):</th>   <td>  0.00</td>   \n",
              "</tr>\n",
              "<tr>\n",
              "  <th>Time:</th>                    <td>21:02:46</td>        <th>  Log-Likelihood:    </th> <td>-1.6144e+05</td>\n",
              "</tr>\n",
              "<tr>\n",
              "  <th>No. Observations:</th>         <td> 12464</td>         <th>  AIC:               </th>  <td>3.230e+05</td> \n",
              "</tr>\n",
              "<tr>\n",
              "  <th>Df Residuals:</th>             <td> 12419</td>         <th>  BIC:               </th>  <td>3.233e+05</td> \n",
              "</tr>\n",
              "<tr>\n",
              "  <th>Df Model:</th>                 <td>    44</td>         <th>                     </th>      <td> </td>     \n",
              "</tr>\n",
              "<tr>\n",
              "  <th>Covariance Type:</th>         <td>nonrobust</td>       <th>                     </th>      <td> </td>     \n",
              "</tr>\n",
              "</table>\n",
              "<table class=\"simpletable\">\n",
              "<tr>\n",
              "                        <td></td>                           <th>coef</th>     <th>std err</th>      <th>t</th>      <th>P>|t|</th>  <th>[0.025</th>    <th>0.975]</th>  \n",
              "</tr>\n",
              "<tr>\n",
              "  <th>const</th>                                         <td>-2.378e+04</td> <td> 5118.608</td> <td>   -4.646</td> <td> 0.000</td> <td>-3.38e+04</td> <td>-1.37e+04</td>\n",
              "</tr>\n",
              "<tr>\n",
              "  <th>Total Food Expenditure</th>                        <td>    0.4738</td> <td>    0.095</td> <td>    4.987</td> <td> 0.000</td> <td>    0.288</td> <td>    0.660</td>\n",
              "</tr>\n",
              "<tr>\n",
              "  <th>Agricultural Household indicator</th>              <td>-7076.9339</td> <td> 1442.249</td> <td>   -4.907</td> <td> 0.000</td> <td>-9903.965</td> <td>-4249.903</td>\n",
              "</tr>\n",
              "<tr>\n",
              "  <th>Bread and Cereals Expenditure</th>                 <td>    0.1904</td> <td>    0.203</td> <td>    0.936</td> <td> 0.349</td> <td>   -0.208</td> <td>    0.589</td>\n",
              "</tr>\n",
              "<tr>\n",
              "  <th>Total Rice Expenditure</th>                        <td>   -0.2468</td> <td>    0.173</td> <td>   -1.422</td> <td> 0.155</td> <td>   -0.587</td> <td>    0.093</td>\n",
              "</tr>\n",
              "<tr>\n",
              "  <th>Meat Expenditure</th>                              <td>    0.2364</td> <td>    0.182</td> <td>    1.302</td> <td> 0.193</td> <td>   -0.120</td> <td>    0.592</td>\n",
              "</tr>\n",
              "<tr>\n",
              "  <th>Total Fish and  marine products Expenditure</th>   <td>   -0.0575</td> <td>    0.186</td> <td>   -0.309</td> <td> 0.757</td> <td>   -0.422</td> <td>    0.307</td>\n",
              "</tr>\n",
              "<tr>\n",
              "  <th>Fruit Expenditure</th>                             <td>    1.0704</td> <td>    0.483</td> <td>    2.215</td> <td> 0.027</td> <td>    0.123</td> <td>    2.018</td>\n",
              "</tr>\n",
              "<tr>\n",
              "  <th>Vegetables Expenditure</th>                        <td>   -1.1567</td> <td>    0.381</td> <td>   -3.038</td> <td> 0.002</td> <td>   -1.903</td> <td>   -0.410</td>\n",
              "</tr>\n",
              "<tr>\n",
              "  <th>Restaurant and hotels Expenditure</th>             <td>    0.2014</td> <td>    0.104</td> <td>    1.943</td> <td> 0.052</td> <td>   -0.002</td> <td>    0.405</td>\n",
              "</tr>\n",
              "<tr>\n",
              "  <th>Alcoholic Beverages Expenditure</th>               <td>    0.3776</td> <td>    0.468</td> <td>    0.807</td> <td> 0.420</td> <td>   -0.540</td> <td>    1.295</td>\n",
              "</tr>\n",
              "<tr>\n",
              "  <th>Tobacco Expenditure</th>                           <td>    0.2289</td> <td>    0.243</td> <td>    0.941</td> <td> 0.347</td> <td>   -0.248</td> <td>    0.706</td>\n",
              "</tr>\n",
              "<tr>\n",
              "  <th>Clothing, Footwear and Other Wear Expenditure</th> <td>    3.5086</td> <td>    0.168</td> <td>   20.841</td> <td> 0.000</td> <td>    3.179</td> <td>    3.839</td>\n",
              "</tr>\n",
              "<tr>\n",
              "  <th>Housing and water Expenditure</th>                 <td>    0.7059</td> <td>    0.054</td> <td>   13.090</td> <td> 0.000</td> <td>    0.600</td> <td>    0.812</td>\n",
              "</tr>\n",
              "<tr>\n",
              "  <th>Imputed House Rental Value</th>                    <td>    0.7351</td> <td>    0.062</td> <td>   11.892</td> <td> 0.000</td> <td>    0.614</td> <td>    0.856</td>\n",
              "</tr>\n",
              "<tr>\n",
              "  <th>Medical Care Expenditure</th>                      <td>    0.7518</td> <td>    0.038</td> <td>   19.599</td> <td> 0.000</td> <td>    0.677</td> <td>    0.827</td>\n",
              "</tr>\n",
              "<tr>\n",
              "  <th>Transportation Expenditure</th>                    <td>    1.7822</td> <td>    0.074</td> <td>   24.095</td> <td> 0.000</td> <td>    1.637</td> <td>    1.927</td>\n",
              "</tr>\n",
              "<tr>\n",
              "  <th>Communication Expenditure</th>                     <td>    2.1814</td> <td>    0.227</td> <td>    9.596</td> <td> 0.000</td> <td>    1.736</td> <td>    2.627</td>\n",
              "</tr>\n",
              "<tr>\n",
              "  <th>Education Expenditure</th>                         <td>    0.7058</td> <td>    0.055</td> <td>   12.766</td> <td> 0.000</td> <td>    0.597</td> <td>    0.814</td>\n",
              "</tr>\n",
              "<tr>\n",
              "  <th>Miscellaneous Goods and Services Expenditure</th>  <td>    2.7179</td> <td>    0.078</td> <td>   34.723</td> <td> 0.000</td> <td>    2.564</td> <td>    2.871</td>\n",
              "</tr>\n",
              "<tr>\n",
              "  <th>Special Occasions Expenditure</th>                 <td>    0.8976</td> <td>    0.081</td> <td>   11.020</td> <td> 0.000</td> <td>    0.738</td> <td>    1.057</td>\n",
              "</tr>\n",
              "<tr>\n",
              "  <th>Crop Farming and Gardening expenses</th>           <td>    0.0746</td> <td>    0.024</td> <td>    3.117</td> <td> 0.002</td> <td>    0.028</td> <td>    0.122</td>\n",
              "</tr>\n",
              "<tr>\n",
              "  <th>Total Income from Entrepreneurial Acitivites</th>  <td>    0.6603</td> <td>    0.007</td> <td>   88.935</td> <td> 0.000</td> <td>    0.646</td> <td>    0.675</td>\n",
              "</tr>\n",
              "<tr>\n",
              "  <th>Household Head Age</th>                            <td>  453.3926</td> <td>   74.906</td> <td>    6.053</td> <td> 0.000</td> <td>  306.565</td> <td>  600.220</td>\n",
              "</tr>\n",
              "<tr>\n",
              "  <th>Total Number of Family members</th>                <td>-5250.4749</td> <td>  923.543</td> <td>   -5.685</td> <td> 0.000</td> <td>-7060.763</td> <td>-3440.187</td>\n",
              "</tr>\n",
              "<tr>\n",
              "  <th>Members with age less than 5 year old</th>         <td> 5725.9314</td> <td> 1817.171</td> <td>    3.151</td> <td> 0.002</td> <td> 2163.994</td> <td> 9287.868</td>\n",
              "</tr>\n",
              "<tr>\n",
              "  <th>Members with age 5 - 17 years old</th>             <td>  746.0480</td> <td> 1092.392</td> <td>    0.683</td> <td> 0.495</td> <td>-1395.210</td> <td> 2887.306</td>\n",
              "</tr>\n",
              "<tr>\n",
              "  <th>Total number of family members employed</th>       <td> 2.626e+04</td> <td> 1011.864</td> <td>   25.951</td> <td> 0.000</td> <td> 2.43e+04</td> <td> 2.82e+04</td>\n",
              "</tr>\n",
              "<tr>\n",
              "  <th>House Floor Area</th>                              <td>    2.2188</td> <td>   20.191</td> <td>    0.110</td> <td> 0.912</td> <td>  -37.359</td> <td>   41.797</td>\n",
              "</tr>\n",
              "<tr>\n",
              "  <th>House Age</th>                                     <td>   -1.1458</td> <td>   69.072</td> <td>   -0.017</td> <td> 0.987</td> <td> -136.538</td> <td>  134.246</td>\n",
              "</tr>\n",
              "<tr>\n",
              "  <th>Number of bedrooms</th>                            <td> 5482.9517</td> <td> 1021.365</td> <td>    5.368</td> <td> 0.000</td> <td> 3480.917</td> <td> 7484.986</td>\n",
              "</tr>\n",
              "<tr>\n",
              "  <th>Electricity</th>                                   <td>-2316.3220</td> <td> 3351.923</td> <td>   -0.691</td> <td> 0.490</td> <td>-8886.611</td> <td> 4253.967</td>\n",
              "</tr>\n",
              "<tr>\n",
              "  <th>Number of Television</th>                          <td>-2035.1256</td> <td> 2020.407</td> <td>   -1.007</td> <td> 0.314</td> <td>-5995.436</td> <td> 1925.185</td>\n",
              "</tr>\n",
              "<tr>\n",
              "  <th>Number of CD/VCD/DVD</th>                          <td> 3515.2842</td> <td> 1966.601</td> <td>    1.787</td> <td> 0.074</td> <td> -339.560</td> <td> 7370.128</td>\n",
              "</tr>\n",
              "<tr>\n",
              "  <th>Number of Component/Stereo set</th>                <td>-2595.8785</td> <td> 2607.944</td> <td>   -0.995</td> <td> 0.320</td> <td>-7707.854</td> <td> 2516.097</td>\n",
              "</tr>\n",
              "<tr>\n",
              "  <th>Number of Refrigerator/Freezer</th>                <td> 2644.8015</td> <td> 2403.178</td> <td>    1.101</td> <td> 0.271</td> <td>-2065.800</td> <td> 7355.402</td>\n",
              "</tr>\n",
              "<tr>\n",
              "  <th>Number of Washing Machine</th>                     <td> 1215.8679</td> <td> 2545.815</td> <td>    0.478</td> <td> 0.633</td> <td>-3774.324</td> <td> 6206.060</td>\n",
              "</tr>\n",
              "<tr>\n",
              "  <th>Number of Airconditioner</th>                      <td>  1.65e+04</td> <td> 2910.856</td> <td>    5.669</td> <td> 0.000</td> <td> 1.08e+04</td> <td> 2.22e+04</td>\n",
              "</tr>\n",
              "<tr>\n",
              "  <th>Number of Car, Jeep, Van</th>                      <td> 1.007e+04</td> <td> 3447.676</td> <td>    2.920</td> <td> 0.004</td> <td> 3308.245</td> <td> 1.68e+04</td>\n",
              "</tr>\n",
              "<tr>\n",
              "  <th>Number of Landline/wireless telephones</th>        <td>-1.056e+04</td> <td> 3838.586</td> <td>   -2.751</td> <td> 0.006</td> <td>-1.81e+04</td> <td>-3033.897</td>\n",
              "</tr>\n",
              "<tr>\n",
              "  <th>Number of Cellular phone</th>                      <td> 1796.2994</td> <td>  877.574</td> <td>    2.047</td> <td> 0.041</td> <td>   76.117</td> <td> 3516.481</td>\n",
              "</tr>\n",
              "<tr>\n",
              "  <th>Number of Personal Computer</th>                   <td> 8855.4033</td> <td> 1764.290</td> <td>    5.019</td> <td> 0.000</td> <td> 5397.121</td> <td> 1.23e+04</td>\n",
              "</tr>\n",
              "<tr>\n",
              "  <th>Number of Stove with Oven/Gas Range</th>           <td> 1.763e+04</td> <td> 3007.932</td> <td>    5.860</td> <td> 0.000</td> <td> 1.17e+04</td> <td> 2.35e+04</td>\n",
              "</tr>\n",
              "<tr>\n",
              "  <th>Number of Motorized Banca</th>                     <td> 1910.1349</td> <td> 7463.072</td> <td>    0.256</td> <td> 0.798</td> <td>-1.27e+04</td> <td> 1.65e+04</td>\n",
              "</tr>\n",
              "<tr>\n",
              "  <th>Number of Motorcycle/Tricycle</th>                 <td>-1476.9300</td> <td> 1789.476</td> <td>   -0.825</td> <td> 0.409</td> <td>-4984.580</td> <td> 2030.720</td>\n",
              "</tr>\n",
              "</table>\n",
              "<table class=\"simpletable\">\n",
              "<tr>\n",
              "  <th>Omnibus:</th>       <td>11988.091</td> <th>  Durbin-Watson:     </th>  <td>   1.984</td>  \n",
              "</tr>\n",
              "<tr>\n",
              "  <th>Prob(Omnibus):</th>  <td> 0.000</td>   <th>  Jarque-Bera (JB):  </th> <td>2379240.824</td>\n",
              "</tr>\n",
              "<tr>\n",
              "  <th>Skew:</th>           <td> 4.146</td>   <th>  Prob(JB):          </th>  <td>    0.00</td>  \n",
              "</tr>\n",
              "<tr>\n",
              "  <th>Kurtosis:</th>       <td>70.176</td>   <th>  Cond. No.          </th>  <td>1.43e+06</td>  \n",
              "</tr>\n",
              "</table><br/><br/>Notes:<br/>[1] Standard Errors assume that the covariance matrix of the errors is correctly specified.<br/>[2] The condition number is large, 1.43e+06. This might indicate that there are<br/>strong multicollinearity or other numerical problems."
            ],
            "text/plain": [
              "<class 'statsmodels.iolib.summary.Summary'>\n",
              "\"\"\"\n",
              "                              OLS Regression Results                              \n",
              "==================================================================================\n",
              "Dep. Variable:     Total Household Income   R-squared:                       0.869\n",
              "Model:                                OLS   Adj. R-squared:                  0.869\n",
              "Method:                     Least Squares   F-statistic:                     1878.\n",
              "Date:                    Mon, 20 Dec 2021   Prob (F-statistic):               0.00\n",
              "Time:                            21:02:46   Log-Likelihood:            -1.6144e+05\n",
              "No. Observations:                   12464   AIC:                         3.230e+05\n",
              "Df Residuals:                       12419   BIC:                         3.233e+05\n",
              "Df Model:                              44                                         \n",
              "Covariance Type:                nonrobust                                         \n",
              "=================================================================================================================\n",
              "                                                    coef    std err          t      P>|t|      [0.025      0.975]\n",
              "-----------------------------------------------------------------------------------------------------------------\n",
              "const                                         -2.378e+04   5118.608     -4.646      0.000   -3.38e+04   -1.37e+04\n",
              "Total Food Expenditure                            0.4738      0.095      4.987      0.000       0.288       0.660\n",
              "Agricultural Household indicator              -7076.9339   1442.249     -4.907      0.000   -9903.965   -4249.903\n",
              "Bread and Cereals Expenditure                     0.1904      0.203      0.936      0.349      -0.208       0.589\n",
              "Total Rice Expenditure                           -0.2468      0.173     -1.422      0.155      -0.587       0.093\n",
              "Meat Expenditure                                  0.2364      0.182      1.302      0.193      -0.120       0.592\n",
              "Total Fish and  marine products Expenditure      -0.0575      0.186     -0.309      0.757      -0.422       0.307\n",
              "Fruit Expenditure                                 1.0704      0.483      2.215      0.027       0.123       2.018\n",
              "Vegetables Expenditure                           -1.1567      0.381     -3.038      0.002      -1.903      -0.410\n",
              "Restaurant and hotels Expenditure                 0.2014      0.104      1.943      0.052      -0.002       0.405\n",
              "Alcoholic Beverages Expenditure                   0.3776      0.468      0.807      0.420      -0.540       1.295\n",
              "Tobacco Expenditure                               0.2289      0.243      0.941      0.347      -0.248       0.706\n",
              "Clothing, Footwear and Other Wear Expenditure     3.5086      0.168     20.841      0.000       3.179       3.839\n",
              "Housing and water Expenditure                     0.7059      0.054     13.090      0.000       0.600       0.812\n",
              "Imputed House Rental Value                        0.7351      0.062     11.892      0.000       0.614       0.856\n",
              "Medical Care Expenditure                          0.7518      0.038     19.599      0.000       0.677       0.827\n",
              "Transportation Expenditure                        1.7822      0.074     24.095      0.000       1.637       1.927\n",
              "Communication Expenditure                         2.1814      0.227      9.596      0.000       1.736       2.627\n",
              "Education Expenditure                             0.7058      0.055     12.766      0.000       0.597       0.814\n",
              "Miscellaneous Goods and Services Expenditure      2.7179      0.078     34.723      0.000       2.564       2.871\n",
              "Special Occasions Expenditure                     0.8976      0.081     11.020      0.000       0.738       1.057\n",
              "Crop Farming and Gardening expenses               0.0746      0.024      3.117      0.002       0.028       0.122\n",
              "Total Income from Entrepreneurial Acitivites      0.6603      0.007     88.935      0.000       0.646       0.675\n",
              "Household Head Age                              453.3926     74.906      6.053      0.000     306.565     600.220\n",
              "Total Number of Family members                -5250.4749    923.543     -5.685      0.000   -7060.763   -3440.187\n",
              "Members with age less than 5 year old          5725.9314   1817.171      3.151      0.002    2163.994    9287.868\n",
              "Members with age 5 - 17 years old               746.0480   1092.392      0.683      0.495   -1395.210    2887.306\n",
              "Total number of family members employed        2.626e+04   1011.864     25.951      0.000    2.43e+04    2.82e+04\n",
              "House Floor Area                                  2.2188     20.191      0.110      0.912     -37.359      41.797\n",
              "House Age                                        -1.1458     69.072     -0.017      0.987    -136.538     134.246\n",
              "Number of bedrooms                             5482.9517   1021.365      5.368      0.000    3480.917    7484.986\n",
              "Electricity                                   -2316.3220   3351.923     -0.691      0.490   -8886.611    4253.967\n",
              "Number of Television                          -2035.1256   2020.407     -1.007      0.314   -5995.436    1925.185\n",
              "Number of CD/VCD/DVD                           3515.2842   1966.601      1.787      0.074    -339.560    7370.128\n",
              "Number of Component/Stereo set                -2595.8785   2607.944     -0.995      0.320   -7707.854    2516.097\n",
              "Number of Refrigerator/Freezer                 2644.8015   2403.178      1.101      0.271   -2065.800    7355.402\n",
              "Number of Washing Machine                      1215.8679   2545.815      0.478      0.633   -3774.324    6206.060\n",
              "Number of Airconditioner                        1.65e+04   2910.856      5.669      0.000    1.08e+04    2.22e+04\n",
              "Number of Car, Jeep, Van                       1.007e+04   3447.676      2.920      0.004    3308.245    1.68e+04\n",
              "Number of Landline/wireless telephones        -1.056e+04   3838.586     -2.751      0.006   -1.81e+04   -3033.897\n",
              "Number of Cellular phone                       1796.2994    877.574      2.047      0.041      76.117    3516.481\n",
              "Number of Personal Computer                    8855.4033   1764.290      5.019      0.000    5397.121    1.23e+04\n",
              "Number of Stove with Oven/Gas Range            1.763e+04   3007.932      5.860      0.000    1.17e+04    2.35e+04\n",
              "Number of Motorized Banca                      1910.1349   7463.072      0.256      0.798   -1.27e+04    1.65e+04\n",
              "Number of Motorcycle/Tricycle                 -1476.9300   1789.476     -0.825      0.409   -4984.580    2030.720\n",
              "==============================================================================\n",
              "Omnibus:                    11988.091   Durbin-Watson:                   1.984\n",
              "Prob(Omnibus):                  0.000   Jarque-Bera (JB):          2379240.824\n",
              "Skew:                           4.146   Prob(JB):                         0.00\n",
              "Kurtosis:                      70.176   Cond. No.                     1.43e+06\n",
              "==============================================================================\n",
              "\n",
              "Notes:\n",
              "[1] Standard Errors assume that the covariance matrix of the errors is correctly specified.\n",
              "[2] The condition number is large, 1.43e+06. This might indicate that there are\n",
              "strong multicollinearity or other numerical problems.\n",
              "\"\"\""
            ]
          },
          "execution_count": 151,
          "metadata": {},
          "output_type": "execute_result"
        }
      ],
      "source": [
        "x1t = sm.add_constant(X1t)\n",
        "modelo_inicial = sm.OLS(y1t, x1t).fit()\n",
        "\n",
        "modelo_inicial.summary()"
      ]
    },
    {
      "cell_type": "code",
      "execution_count": null,
      "metadata": {
        "id": "YN_Lw8rPC6In"
      },
      "outputs": [],
      "source": [
        ""
      ]
    }
  ],
  "metadata": {
    "colab": {
      "collapsed_sections": [
        "W19ASErmrvnt",
        "73BW8Zq6JRG2",
        "6UjZScWuvLsl",
        "26xRjvSvvVG_",
        "wWiO9Lzwvhqb",
        "cZmPQRM8vsp8",
        "pgnV5arIX_f_"
      ],
      "name": "projeto_grupo2_estatistica.ipynb",
      "provenance": [],
      "include_colab_link": true
    },
    "kernelspec": {
      "display_name": "Python 3",
      "language": "python",
      "name": "python3"
    },
    "language_info": {
      "codemirror_mode": {
        "name": "ipython",
        "version": 3
      },
      "file_extension": ".py",
      "mimetype": "text/x-python",
      "name": "python",
      "nbconvert_exporter": "python",
      "pygments_lexer": "ipython3",
      "version": "3.8.5"
    }
  },
  "nbformat": 4,
  "nbformat_minor": 0
}